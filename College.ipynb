{
 "cells": [
  {
   "cell_type": "markdown",
   "metadata": {},
   "source": [
    "# Analysis of Top Ranked Colleges in the United States"
   ]
  },
  {
   "cell_type": "code",
   "execution_count": 2,
   "metadata": {},
   "outputs": [],
   "source": [
    "import pandas as pd\n",
    "import numpy as np\n",
    "import matplotlib.pyplot as plt \n",
    "import seaborn as sns"
   ]
  },
  {
   "cell_type": "code",
   "execution_count": 3,
   "metadata": {},
   "outputs": [
    {
     "data": {
      "text/html": [
       "<div>\n",
       "<style scoped>\n",
       "    .dataframe tbody tr th:only-of-type {\n",
       "        vertical-align: middle;\n",
       "    }\n",
       "\n",
       "    .dataframe tbody tr th {\n",
       "        vertical-align: top;\n",
       "    }\n",
       "\n",
       "    .dataframe thead th {\n",
       "        text-align: right;\n",
       "    }\n",
       "</style>\n",
       "<table border=\"1\" class=\"dataframe\">\n",
       "  <thead>\n",
       "    <tr style=\"text-align: right;\">\n",
       "      <th></th>\n",
       "      <th>Rank</th>\n",
       "      <th>Name</th>\n",
       "      <th>City</th>\n",
       "      <th>State</th>\n",
       "      <th>Public/Private</th>\n",
       "      <th>Undergraduate Population</th>\n",
       "      <th>Student Population</th>\n",
       "      <th>Net Price</th>\n",
       "      <th>Average Grant Aid</th>\n",
       "      <th>Total Annual Cost</th>\n",
       "      <th>Alumni Salary</th>\n",
       "      <th>Acceptance Rate</th>\n",
       "      <th>SAT Lower</th>\n",
       "      <th>SAT Upper</th>\n",
       "      <th>ACT Lower</th>\n",
       "      <th>ACT Upper</th>\n",
       "      <th>Website</th>\n",
       "    </tr>\n",
       "  </thead>\n",
       "  <tbody>\n",
       "    <tr>\n",
       "      <th>0</th>\n",
       "      <td>1.0</td>\n",
       "      <td>Harvard University</td>\n",
       "      <td>Cambridge</td>\n",
       "      <td>MA</td>\n",
       "      <td>Private</td>\n",
       "      <td>13844.0</td>\n",
       "      <td>31120.0</td>\n",
       "      <td>14327.0</td>\n",
       "      <td>49870.0</td>\n",
       "      <td>69600.0</td>\n",
       "      <td>146800.0</td>\n",
       "      <td>5.0</td>\n",
       "      <td>1460.0</td>\n",
       "      <td>1590.0</td>\n",
       "      <td>32.0</td>\n",
       "      <td>35.0</td>\n",
       "      <td>www.harvard.edu</td>\n",
       "    </tr>\n",
       "    <tr>\n",
       "      <th>1</th>\n",
       "      <td>2.0</td>\n",
       "      <td>Stanford University</td>\n",
       "      <td>Stanford</td>\n",
       "      <td>CA</td>\n",
       "      <td>Private</td>\n",
       "      <td>8402.0</td>\n",
       "      <td>17534.0</td>\n",
       "      <td>13261.0</td>\n",
       "      <td>50134.0</td>\n",
       "      <td>69109.0</td>\n",
       "      <td>145200.0</td>\n",
       "      <td>5.0</td>\n",
       "      <td>1390.0</td>\n",
       "      <td>1540.0</td>\n",
       "      <td>32.0</td>\n",
       "      <td>35.0</td>\n",
       "      <td>www.stanford.edu</td>\n",
       "    </tr>\n",
       "    <tr>\n",
       "      <th>2</th>\n",
       "      <td>3.0</td>\n",
       "      <td>Yale University</td>\n",
       "      <td>New Haven</td>\n",
       "      <td>CT</td>\n",
       "      <td>Private</td>\n",
       "      <td>6483.0</td>\n",
       "      <td>12974.0</td>\n",
       "      <td>18627.0</td>\n",
       "      <td>50897.0</td>\n",
       "      <td>71290.0</td>\n",
       "      <td>138300.0</td>\n",
       "      <td>7.0</td>\n",
       "      <td>1460.0</td>\n",
       "      <td>1580.0</td>\n",
       "      <td>32.0</td>\n",
       "      <td>35.0</td>\n",
       "      <td>www.yale.edu</td>\n",
       "    </tr>\n",
       "  </tbody>\n",
       "</table>\n",
       "</div>"
      ],
      "text/plain": [
       "   Rank                 Name       City State Public/Private  \\\n",
       "0   1.0   Harvard University  Cambridge    MA        Private   \n",
       "1   2.0  Stanford University   Stanford    CA        Private   \n",
       "2   3.0      Yale University  New Haven    CT        Private   \n",
       "\n",
       "   Undergraduate Population  Student Population  Net Price  Average Grant Aid  \\\n",
       "0                   13844.0             31120.0    14327.0            49870.0   \n",
       "1                    8402.0             17534.0    13261.0            50134.0   \n",
       "2                    6483.0             12974.0    18627.0            50897.0   \n",
       "\n",
       "   Total Annual Cost  Alumni Salary  Acceptance Rate  SAT Lower  SAT Upper  \\\n",
       "0            69600.0       146800.0              5.0     1460.0     1590.0   \n",
       "1            69109.0       145200.0              5.0     1390.0     1540.0   \n",
       "2            71290.0       138300.0              7.0     1460.0     1580.0   \n",
       "\n",
       "   ACT Lower  ACT Upper           Website  \n",
       "0       32.0       35.0   www.harvard.edu  \n",
       "1       32.0       35.0  www.stanford.edu  \n",
       "2       32.0       35.0      www.yale.edu  "
      ]
     },
     "execution_count": 3,
     "metadata": {},
     "output_type": "execute_result"
    }
   ],
   "source": [
    "df = pd.read_csv('C:\\\\Users\\\\Woyte\\\\OneDrive\\\\Data\\\\Forbescolleges2019.csv')\n",
    "df.head(3)"
   ]
  },
  {
   "cell_type": "markdown",
   "metadata": {},
   "source": [
    "### Variable Creation\n",
    "\n",
    "##### Test Scores\n",
    "\n",
    "Looking at the columns from the dataframe, I noticed that there was a lower and upper value for both the student population's SAT and ACT scores, but not an average, so I wanted to create an average variable myself. Note: This average is not the average score of the student population, but the average score between the highest and lowest scorers amonst the population.\n",
    "\n",
    "##### Public/Private \n",
    "\n",
    "The variable is currently contained as a string, which isn't very useful for data analysis, so I decided to turn it into a binary variable where '1' were all public schools, and '0' were all private.\n",
    "\n",
    "##### Undergraduate Percentage\n",
    "\n",
    "The percentage of the student population enrolled in an undergraduate program\n",
    "\n",
    "##### Test Difference\n",
    "\n",
    "The difference between the highest and lowest test scores\n",
    "\n",
    "##### Post-UG Population\n",
    "\n",
    "The student population enrolled beyond an undergraduate education.\n",
    "\n",
    "##### Post-UG Percentage\n",
    "\n",
    "Percentage of the student population enrolled after obtaining a Bachelor's degree."
   ]
  },
  {
   "cell_type": "code",
   "execution_count": 4,
   "metadata": {},
   "outputs": [
    {
     "data": {
      "text/html": [
       "<div>\n",
       "<style scoped>\n",
       "    .dataframe tbody tr th:only-of-type {\n",
       "        vertical-align: middle;\n",
       "    }\n",
       "\n",
       "    .dataframe tbody tr th {\n",
       "        vertical-align: top;\n",
       "    }\n",
       "\n",
       "    .dataframe thead th {\n",
       "        text-align: right;\n",
       "    }\n",
       "</style>\n",
       "<table border=\"1\" class=\"dataframe\">\n",
       "  <thead>\n",
       "    <tr style=\"text-align: right;\">\n",
       "      <th></th>\n",
       "      <th>Rank</th>\n",
       "      <th>Name</th>\n",
       "      <th>City</th>\n",
       "      <th>State</th>\n",
       "      <th>Public/Private</th>\n",
       "      <th>Undergraduate Population</th>\n",
       "      <th>Student Population</th>\n",
       "      <th>Net Price</th>\n",
       "      <th>Average Grant Aid</th>\n",
       "      <th>Total Annual Cost</th>\n",
       "      <th>Alumni Salary</th>\n",
       "      <th>Acceptance Rate</th>\n",
       "      <th>SAT Lower</th>\n",
       "      <th>SAT Upper</th>\n",
       "      <th>ACT Lower</th>\n",
       "      <th>ACT Upper</th>\n",
       "      <th>Website</th>\n",
       "      <th>SAT Average</th>\n",
       "      <th>ACT Average</th>\n",
       "    </tr>\n",
       "  </thead>\n",
       "  <tbody>\n",
       "    <tr>\n",
       "      <th>0</th>\n",
       "      <td>1.0</td>\n",
       "      <td>Harvard University</td>\n",
       "      <td>Cambridge</td>\n",
       "      <td>MA</td>\n",
       "      <td>Private</td>\n",
       "      <td>13844.0</td>\n",
       "      <td>31120.0</td>\n",
       "      <td>14327.0</td>\n",
       "      <td>49870.0</td>\n",
       "      <td>69600.0</td>\n",
       "      <td>146800.0</td>\n",
       "      <td>5.0</td>\n",
       "      <td>1460.0</td>\n",
       "      <td>1590.0</td>\n",
       "      <td>32.0</td>\n",
       "      <td>35.0</td>\n",
       "      <td>www.harvard.edu</td>\n",
       "      <td>1525.0</td>\n",
       "      <td>33.5</td>\n",
       "    </tr>\n",
       "    <tr>\n",
       "      <th>1</th>\n",
       "      <td>2.0</td>\n",
       "      <td>Stanford University</td>\n",
       "      <td>Stanford</td>\n",
       "      <td>CA</td>\n",
       "      <td>Private</td>\n",
       "      <td>8402.0</td>\n",
       "      <td>17534.0</td>\n",
       "      <td>13261.0</td>\n",
       "      <td>50134.0</td>\n",
       "      <td>69109.0</td>\n",
       "      <td>145200.0</td>\n",
       "      <td>5.0</td>\n",
       "      <td>1390.0</td>\n",
       "      <td>1540.0</td>\n",
       "      <td>32.0</td>\n",
       "      <td>35.0</td>\n",
       "      <td>www.stanford.edu</td>\n",
       "      <td>1465.0</td>\n",
       "      <td>33.5</td>\n",
       "    </tr>\n",
       "    <tr>\n",
       "      <th>2</th>\n",
       "      <td>3.0</td>\n",
       "      <td>Yale University</td>\n",
       "      <td>New Haven</td>\n",
       "      <td>CT</td>\n",
       "      <td>Private</td>\n",
       "      <td>6483.0</td>\n",
       "      <td>12974.0</td>\n",
       "      <td>18627.0</td>\n",
       "      <td>50897.0</td>\n",
       "      <td>71290.0</td>\n",
       "      <td>138300.0</td>\n",
       "      <td>7.0</td>\n",
       "      <td>1460.0</td>\n",
       "      <td>1580.0</td>\n",
       "      <td>32.0</td>\n",
       "      <td>35.0</td>\n",
       "      <td>www.yale.edu</td>\n",
       "      <td>1520.0</td>\n",
       "      <td>33.5</td>\n",
       "    </tr>\n",
       "  </tbody>\n",
       "</table>\n",
       "</div>"
      ],
      "text/plain": [
       "   Rank                 Name       City State Public/Private  \\\n",
       "0   1.0   Harvard University  Cambridge    MA        Private   \n",
       "1   2.0  Stanford University   Stanford    CA        Private   \n",
       "2   3.0      Yale University  New Haven    CT        Private   \n",
       "\n",
       "   Undergraduate Population  Student Population  Net Price  Average Grant Aid  \\\n",
       "0                   13844.0             31120.0    14327.0            49870.0   \n",
       "1                    8402.0             17534.0    13261.0            50134.0   \n",
       "2                    6483.0             12974.0    18627.0            50897.0   \n",
       "\n",
       "   Total Annual Cost  Alumni Salary  Acceptance Rate  SAT Lower  SAT Upper  \\\n",
       "0            69600.0       146800.0              5.0     1460.0     1590.0   \n",
       "1            69109.0       145200.0              5.0     1390.0     1540.0   \n",
       "2            71290.0       138300.0              7.0     1460.0     1580.0   \n",
       "\n",
       "   ACT Lower  ACT Upper           Website  SAT Average  ACT Average  \n",
       "0       32.0       35.0   www.harvard.edu       1525.0         33.5  \n",
       "1       32.0       35.0  www.stanford.edu       1465.0         33.5  \n",
       "2       32.0       35.0      www.yale.edu       1520.0         33.5  "
      ]
     },
     "execution_count": 4,
     "metadata": {},
     "output_type": "execute_result"
    }
   ],
   "source": [
    "df['SAT Average']=df['SAT Lower']/2+df['SAT Upper']/2\n",
    "df['ACT Average']=df['ACT Lower']/2+df['ACT Upper']/2\n",
    "\n",
    "df.head(3)"
   ]
  },
  {
   "cell_type": "code",
   "execution_count": 5,
   "metadata": {},
   "outputs": [
    {
     "data": {
      "text/html": [
       "<div>\n",
       "<style scoped>\n",
       "    .dataframe tbody tr th:only-of-type {\n",
       "        vertical-align: middle;\n",
       "    }\n",
       "\n",
       "    .dataframe tbody tr th {\n",
       "        vertical-align: top;\n",
       "    }\n",
       "\n",
       "    .dataframe thead th {\n",
       "        text-align: right;\n",
       "    }\n",
       "</style>\n",
       "<table border=\"1\" class=\"dataframe\">\n",
       "  <thead>\n",
       "    <tr style=\"text-align: right;\">\n",
       "      <th></th>\n",
       "      <th>Rank</th>\n",
       "      <th>Name</th>\n",
       "      <th>City</th>\n",
       "      <th>State</th>\n",
       "      <th>Undergraduate Population</th>\n",
       "      <th>Student Population</th>\n",
       "      <th>Net Price</th>\n",
       "      <th>Average Grant Aid</th>\n",
       "      <th>Total Annual Cost</th>\n",
       "      <th>Alumni Salary</th>\n",
       "      <th>Acceptance Rate</th>\n",
       "      <th>SAT Lower</th>\n",
       "      <th>SAT Upper</th>\n",
       "      <th>ACT Lower</th>\n",
       "      <th>ACT Upper</th>\n",
       "      <th>SAT Average</th>\n",
       "      <th>ACT Average</th>\n",
       "      <th>Public</th>\n",
       "    </tr>\n",
       "  </thead>\n",
       "  <tbody>\n",
       "    <tr>\n",
       "      <th>0</th>\n",
       "      <td>1.0</td>\n",
       "      <td>Harvard University</td>\n",
       "      <td>Cambridge</td>\n",
       "      <td>MA</td>\n",
       "      <td>13844.0</td>\n",
       "      <td>31120.0</td>\n",
       "      <td>14327.0</td>\n",
       "      <td>49870.0</td>\n",
       "      <td>69600.0</td>\n",
       "      <td>146800.0</td>\n",
       "      <td>5.0</td>\n",
       "      <td>1460.0</td>\n",
       "      <td>1590.0</td>\n",
       "      <td>32.0</td>\n",
       "      <td>35.0</td>\n",
       "      <td>1525.0</td>\n",
       "      <td>33.5</td>\n",
       "      <td>0</td>\n",
       "    </tr>\n",
       "    <tr>\n",
       "      <th>1</th>\n",
       "      <td>2.0</td>\n",
       "      <td>Stanford University</td>\n",
       "      <td>Stanford</td>\n",
       "      <td>CA</td>\n",
       "      <td>8402.0</td>\n",
       "      <td>17534.0</td>\n",
       "      <td>13261.0</td>\n",
       "      <td>50134.0</td>\n",
       "      <td>69109.0</td>\n",
       "      <td>145200.0</td>\n",
       "      <td>5.0</td>\n",
       "      <td>1390.0</td>\n",
       "      <td>1540.0</td>\n",
       "      <td>32.0</td>\n",
       "      <td>35.0</td>\n",
       "      <td>1465.0</td>\n",
       "      <td>33.5</td>\n",
       "      <td>0</td>\n",
       "    </tr>\n",
       "    <tr>\n",
       "      <th>2</th>\n",
       "      <td>3.0</td>\n",
       "      <td>Yale University</td>\n",
       "      <td>New Haven</td>\n",
       "      <td>CT</td>\n",
       "      <td>6483.0</td>\n",
       "      <td>12974.0</td>\n",
       "      <td>18627.0</td>\n",
       "      <td>50897.0</td>\n",
       "      <td>71290.0</td>\n",
       "      <td>138300.0</td>\n",
       "      <td>7.0</td>\n",
       "      <td>1460.0</td>\n",
       "      <td>1580.0</td>\n",
       "      <td>32.0</td>\n",
       "      <td>35.0</td>\n",
       "      <td>1520.0</td>\n",
       "      <td>33.5</td>\n",
       "      <td>0</td>\n",
       "    </tr>\n",
       "  </tbody>\n",
       "</table>\n",
       "</div>"
      ],
      "text/plain": [
       "   Rank                 Name       City State  Undergraduate Population  \\\n",
       "0   1.0   Harvard University  Cambridge    MA                   13844.0   \n",
       "1   2.0  Stanford University   Stanford    CA                    8402.0   \n",
       "2   3.0      Yale University  New Haven    CT                    6483.0   \n",
       "\n",
       "   Student Population  Net Price  Average Grant Aid  Total Annual Cost  \\\n",
       "0             31120.0    14327.0            49870.0            69600.0   \n",
       "1             17534.0    13261.0            50134.0            69109.0   \n",
       "2             12974.0    18627.0            50897.0            71290.0   \n",
       "\n",
       "   Alumni Salary  Acceptance Rate  SAT Lower  SAT Upper  ACT Lower  ACT Upper  \\\n",
       "0       146800.0              5.0     1460.0     1590.0       32.0       35.0   \n",
       "1       145200.0              5.0     1390.0     1540.0       32.0       35.0   \n",
       "2       138300.0              7.0     1460.0     1580.0       32.0       35.0   \n",
       "\n",
       "   SAT Average  ACT Average  Public  \n",
       "0       1525.0         33.5       0  \n",
       "1       1465.0         33.5       0  \n",
       "2       1520.0         33.5       0  "
      ]
     },
     "execution_count": 5,
     "metadata": {},
     "output_type": "execute_result"
    }
   ],
   "source": [
    "dummy=pd.get_dummies(df['Public/Private'], drop_first=True)\n",
    "df=pd.concat([df, dummy], axis=1)\n",
    "df=df.drop(['Public/Private', 'Website'], axis=1)\n",
    "df.head(3)"
   ]
  },
  {
   "cell_type": "code",
   "execution_count": 6,
   "metadata": {},
   "outputs": [
    {
     "data": {
      "text/html": [
       "<div>\n",
       "<style scoped>\n",
       "    .dataframe tbody tr th:only-of-type {\n",
       "        vertical-align: middle;\n",
       "    }\n",
       "\n",
       "    .dataframe tbody tr th {\n",
       "        vertical-align: top;\n",
       "    }\n",
       "\n",
       "    .dataframe thead th {\n",
       "        text-align: right;\n",
       "    }\n",
       "</style>\n",
       "<table border=\"1\" class=\"dataframe\">\n",
       "  <thead>\n",
       "    <tr style=\"text-align: right;\">\n",
       "      <th></th>\n",
       "      <th>Rank</th>\n",
       "      <th>Name</th>\n",
       "      <th>City</th>\n",
       "      <th>State</th>\n",
       "      <th>Undergraduate Population</th>\n",
       "      <th>Student Population</th>\n",
       "      <th>Net Price</th>\n",
       "      <th>Average Grant Aid</th>\n",
       "      <th>Total Annual Cost</th>\n",
       "      <th>Alumni Salary</th>\n",
       "      <th>...</th>\n",
       "      <th>ACT Lower</th>\n",
       "      <th>ACT Upper</th>\n",
       "      <th>SAT Average</th>\n",
       "      <th>ACT Average</th>\n",
       "      <th>Public</th>\n",
       "      <th>Undergraduate Percentage</th>\n",
       "      <th>ACT Difference</th>\n",
       "      <th>SAT Difference</th>\n",
       "      <th>Post-UG Population</th>\n",
       "      <th>Post-UG Percentage</th>\n",
       "    </tr>\n",
       "  </thead>\n",
       "  <tbody>\n",
       "    <tr>\n",
       "      <th>0</th>\n",
       "      <td>1.0</td>\n",
       "      <td>Harvard University</td>\n",
       "      <td>Cambridge</td>\n",
       "      <td>MA</td>\n",
       "      <td>13844.0</td>\n",
       "      <td>31120.0</td>\n",
       "      <td>14327.0</td>\n",
       "      <td>49870.0</td>\n",
       "      <td>69600.0</td>\n",
       "      <td>146800.0</td>\n",
       "      <td>...</td>\n",
       "      <td>32.0</td>\n",
       "      <td>35.0</td>\n",
       "      <td>1525.0</td>\n",
       "      <td>33.5</td>\n",
       "      <td>0</td>\n",
       "      <td>0.444859</td>\n",
       "      <td>12.9</td>\n",
       "      <td>474.0</td>\n",
       "      <td>17276.0</td>\n",
       "      <td>0.555141</td>\n",
       "    </tr>\n",
       "    <tr>\n",
       "      <th>1</th>\n",
       "      <td>2.0</td>\n",
       "      <td>Stanford University</td>\n",
       "      <td>Stanford</td>\n",
       "      <td>CA</td>\n",
       "      <td>8402.0</td>\n",
       "      <td>17534.0</td>\n",
       "      <td>13261.0</td>\n",
       "      <td>50134.0</td>\n",
       "      <td>69109.0</td>\n",
       "      <td>145200.0</td>\n",
       "      <td>...</td>\n",
       "      <td>32.0</td>\n",
       "      <td>35.0</td>\n",
       "      <td>1465.0</td>\n",
       "      <td>33.5</td>\n",
       "      <td>0</td>\n",
       "      <td>0.479183</td>\n",
       "      <td>12.9</td>\n",
       "      <td>414.0</td>\n",
       "      <td>9132.0</td>\n",
       "      <td>0.520817</td>\n",
       "    </tr>\n",
       "    <tr>\n",
       "      <th>2</th>\n",
       "      <td>3.0</td>\n",
       "      <td>Yale University</td>\n",
       "      <td>New Haven</td>\n",
       "      <td>CT</td>\n",
       "      <td>6483.0</td>\n",
       "      <td>12974.0</td>\n",
       "      <td>18627.0</td>\n",
       "      <td>50897.0</td>\n",
       "      <td>71290.0</td>\n",
       "      <td>138300.0</td>\n",
       "      <td>...</td>\n",
       "      <td>32.0</td>\n",
       "      <td>35.0</td>\n",
       "      <td>1520.0</td>\n",
       "      <td>33.5</td>\n",
       "      <td>0</td>\n",
       "      <td>0.499692</td>\n",
       "      <td>12.9</td>\n",
       "      <td>469.0</td>\n",
       "      <td>6491.0</td>\n",
       "      <td>0.500308</td>\n",
       "    </tr>\n",
       "  </tbody>\n",
       "</table>\n",
       "<p>3 rows × 23 columns</p>\n",
       "</div>"
      ],
      "text/plain": [
       "   Rank                 Name       City State  Undergraduate Population  \\\n",
       "0   1.0   Harvard University  Cambridge    MA                   13844.0   \n",
       "1   2.0  Stanford University   Stanford    CA                    8402.0   \n",
       "2   3.0      Yale University  New Haven    CT                    6483.0   \n",
       "\n",
       "   Student Population  Net Price  Average Grant Aid  Total Annual Cost  \\\n",
       "0             31120.0    14327.0            49870.0            69600.0   \n",
       "1             17534.0    13261.0            50134.0            69109.0   \n",
       "2             12974.0    18627.0            50897.0            71290.0   \n",
       "\n",
       "   Alumni Salary  ...  ACT Lower  ACT Upper  SAT Average  ACT Average  Public  \\\n",
       "0       146800.0  ...       32.0       35.0       1525.0         33.5       0   \n",
       "1       145200.0  ...       32.0       35.0       1465.0         33.5       0   \n",
       "2       138300.0  ...       32.0       35.0       1520.0         33.5       0   \n",
       "\n",
       "   Undergraduate Percentage  ACT Difference  SAT Difference  \\\n",
       "0                  0.444859            12.9           474.0   \n",
       "1                  0.479183            12.9           414.0   \n",
       "2                  0.499692            12.9           469.0   \n",
       "\n",
       "   Post-UG Population  Post-UG Percentage  \n",
       "0             17276.0            0.555141  \n",
       "1              9132.0            0.520817  \n",
       "2              6491.0            0.500308  \n",
       "\n",
       "[3 rows x 23 columns]"
      ]
     },
     "execution_count": 6,
     "metadata": {},
     "output_type": "execute_result"
    }
   ],
   "source": [
    "df['Undergraduate Percentage'] = df['Undergraduate Population']/ df['Student Population']\n",
    "df['ACT Difference'] = df['ACT Average']-20.6\n",
    "df['SAT Difference'] = df['SAT Average']-1051\n",
    "df['Post-UG Population'] = df['Student Population'] - df['Undergraduate Population']\n",
    "df['Post-UG Percentage'] = df['Post-UG Population'] / df['Student Population']\n",
    "df.head(3)"
   ]
  },
  {
   "cell_type": "markdown",
   "metadata": {},
   "source": [
    "### Gathering Summary Statistics on Data"
   ]
  },
  {
   "cell_type": "code",
   "execution_count": 7,
   "metadata": {},
   "outputs": [
    {
     "name": "stdout",
     "output_type": "stream",
     "text": [
      "<class 'pandas.core.frame.DataFrame'>\n",
      "RangeIndex: 650 entries, 0 to 649\n",
      "Data columns (total 23 columns):\n",
      " #   Column                    Non-Null Count  Dtype  \n",
      "---  ------                    --------------  -----  \n",
      " 0   Rank                      650 non-null    float64\n",
      " 1   Name                      650 non-null    object \n",
      " 2   City                      647 non-null    object \n",
      " 3   State                     650 non-null    object \n",
      " 4   Undergraduate Population  650 non-null    float64\n",
      " 5   Student Population        650 non-null    float64\n",
      " 6   Net Price                 648 non-null    float64\n",
      " 7   Average Grant Aid         646 non-null    float64\n",
      " 8   Total Annual Cost         650 non-null    float64\n",
      " 9   Alumni Salary             635 non-null    float64\n",
      " 10  Acceptance Rate           648 non-null    float64\n",
      " 11  SAT Lower                 551 non-null    float64\n",
      " 12  SAT Upper                 551 non-null    float64\n",
      " 13  ACT Lower                 553 non-null    float64\n",
      " 14  ACT Upper                 553 non-null    float64\n",
      " 15  SAT Average               551 non-null    float64\n",
      " 16  ACT Average               553 non-null    float64\n",
      " 17  Public                    650 non-null    uint8  \n",
      " 18  Undergraduate Percentage  650 non-null    float64\n",
      " 19  ACT Difference            553 non-null    float64\n",
      " 20  SAT Difference            551 non-null    float64\n",
      " 21  Post-UG Population        650 non-null    float64\n",
      " 22  Post-UG Percentage        650 non-null    float64\n",
      "dtypes: float64(19), object(3), uint8(1)\n",
      "memory usage: 112.5+ KB\n"
     ]
    }
   ],
   "source": [
    "df.info()"
   ]
  },
  {
   "cell_type": "markdown",
   "metadata": {},
   "source": [
    "As the table shows, there are null values in my data. For example, about 15% of the SAT variables are null values. Null values can be troublesome for machine learning, so I shouvld do something about them. The two simplest ways are to remove any record containing a null value, or estimating the null values. By deleting the values, I'd be effectively cutting down my available data by around 1/5th, meaning the data's predictive capability would lessen. On the other hand, estimating values in place of the nulls might not be accurate, and so can also harm the predictive capabilities of the model based on how off they are. \n",
    "\n",
    "Later on, I will be trying out both methods to try and maximize my models' predictive capabilities."
   ]
  },
  {
   "cell_type": "code",
   "execution_count": 8,
   "metadata": {},
   "outputs": [
    {
     "data": {
      "text/html": [
       "<div>\n",
       "<style scoped>\n",
       "    .dataframe tbody tr th:only-of-type {\n",
       "        vertical-align: middle;\n",
       "    }\n",
       "\n",
       "    .dataframe tbody tr th {\n",
       "        vertical-align: top;\n",
       "    }\n",
       "\n",
       "    .dataframe thead th {\n",
       "        text-align: right;\n",
       "    }\n",
       "</style>\n",
       "<table border=\"1\" class=\"dataframe\">\n",
       "  <thead>\n",
       "    <tr style=\"text-align: right;\">\n",
       "      <th></th>\n",
       "      <th>Rank</th>\n",
       "      <th>Undergraduate Population</th>\n",
       "      <th>Student Population</th>\n",
       "      <th>Net Price</th>\n",
       "      <th>Average Grant Aid</th>\n",
       "      <th>Total Annual Cost</th>\n",
       "      <th>Alumni Salary</th>\n",
       "      <th>Acceptance Rate</th>\n",
       "      <th>SAT Lower</th>\n",
       "      <th>SAT Upper</th>\n",
       "      <th>ACT Lower</th>\n",
       "      <th>ACT Upper</th>\n",
       "      <th>SAT Average</th>\n",
       "      <th>ACT Average</th>\n",
       "      <th>Public</th>\n",
       "      <th>Undergraduate Percentage</th>\n",
       "      <th>ACT Difference</th>\n",
       "      <th>SAT Difference</th>\n",
       "      <th>Post-UG Population</th>\n",
       "      <th>Post-UG Percentage</th>\n",
       "    </tr>\n",
       "  </thead>\n",
       "  <tbody>\n",
       "    <tr>\n",
       "      <th>count</th>\n",
       "      <td>650.00000</td>\n",
       "      <td>650.000000</td>\n",
       "      <td>650.000000</td>\n",
       "      <td>648.000000</td>\n",
       "      <td>646.000000</td>\n",
       "      <td>650.000000</td>\n",
       "      <td>635.000000</td>\n",
       "      <td>648.000000</td>\n",
       "      <td>551.000000</td>\n",
       "      <td>551.000000</td>\n",
       "      <td>553.000000</td>\n",
       "      <td>553.000000</td>\n",
       "      <td>551.000000</td>\n",
       "      <td>553.000000</td>\n",
       "      <td>650.000000</td>\n",
       "      <td>650.000000</td>\n",
       "      <td>553.000000</td>\n",
       "      <td>551.000000</td>\n",
       "      <td>650.000000</td>\n",
       "      <td>650.000000</td>\n",
       "    </tr>\n",
       "    <tr>\n",
       "      <th>mean</th>\n",
       "      <td>325.50000</td>\n",
       "      <td>10002.692308</td>\n",
       "      <td>12022.290769</td>\n",
       "      <td>22336.947531</td>\n",
       "      <td>20031.208978</td>\n",
       "      <td>50330.175385</td>\n",
       "      <td>98851.968504</td>\n",
       "      <td>61.597222</td>\n",
       "      <td>1110.145191</td>\n",
       "      <td>1308.078040</td>\n",
       "      <td>23.278481</td>\n",
       "      <td>28.441230</td>\n",
       "      <td>1209.111615</td>\n",
       "      <td>25.859855</td>\n",
       "      <td>0.384615</td>\n",
       "      <td>0.851454</td>\n",
       "      <td>5.259855</td>\n",
       "      <td>158.111615</td>\n",
       "      <td>2019.598462</td>\n",
       "      <td>0.148546</td>\n",
       "    </tr>\n",
       "    <tr>\n",
       "      <th>std</th>\n",
       "      <td>187.78312</td>\n",
       "      <td>11162.172430</td>\n",
       "      <td>13175.091581</td>\n",
       "      <td>8269.912032</td>\n",
       "      <td>11175.869976</td>\n",
       "      <td>13223.055038</td>\n",
       "      <td>14335.249458</td>\n",
       "      <td>22.024781</td>\n",
       "      <td>127.744079</td>\n",
       "      <td>113.553237</td>\n",
       "      <td>3.729318</td>\n",
       "      <td>3.058115</td>\n",
       "      <td>119.091660</td>\n",
       "      <td>3.352316</td>\n",
       "      <td>0.486879</td>\n",
       "      <td>0.143043</td>\n",
       "      <td>3.352316</td>\n",
       "      <td>119.091660</td>\n",
       "      <td>3266.257945</td>\n",
       "      <td>0.143043</td>\n",
       "    </tr>\n",
       "    <tr>\n",
       "      <th>min</th>\n",
       "      <td>1.00000</td>\n",
       "      <td>185.000000</td>\n",
       "      <td>386.000000</td>\n",
       "      <td>0.000000</td>\n",
       "      <td>2975.000000</td>\n",
       "      <td>0.000000</td>\n",
       "      <td>70700.000000</td>\n",
       "      <td>5.000000</td>\n",
       "      <td>820.000000</td>\n",
       "      <td>1060.000000</td>\n",
       "      <td>15.000000</td>\n",
       "      <td>20.000000</td>\n",
       "      <td>964.000000</td>\n",
       "      <td>17.500000</td>\n",
       "      <td>0.000000</td>\n",
       "      <td>0.232771</td>\n",
       "      <td>-3.100000</td>\n",
       "      <td>-87.000000</td>\n",
       "      <td>1.000000</td>\n",
       "      <td>0.000072</td>\n",
       "    </tr>\n",
       "    <tr>\n",
       "      <th>25%</th>\n",
       "      <td>163.25000</td>\n",
       "      <td>2020.250000</td>\n",
       "      <td>2240.750000</td>\n",
       "      <td>16410.000000</td>\n",
       "      <td>9288.250000</td>\n",
       "      <td>39917.000000</td>\n",
       "      <td>88600.000000</td>\n",
       "      <td>48.000000</td>\n",
       "      <td>1020.000000</td>\n",
       "      <td>1230.000000</td>\n",
       "      <td>21.000000</td>\n",
       "      <td>26.000000</td>\n",
       "      <td>1130.000000</td>\n",
       "      <td>23.500000</td>\n",
       "      <td>0.000000</td>\n",
       "      <td>0.785172</td>\n",
       "      <td>2.900000</td>\n",
       "      <td>79.000000</td>\n",
       "      <td>140.000000</td>\n",
       "      <td>0.042070</td>\n",
       "    </tr>\n",
       "    <tr>\n",
       "      <th>50%</th>\n",
       "      <td>325.50000</td>\n",
       "      <td>4503.000000</td>\n",
       "      <td>6269.000000</td>\n",
       "      <td>21989.000000</td>\n",
       "      <td>19605.000000</td>\n",
       "      <td>50265.000000</td>\n",
       "      <td>96400.000000</td>\n",
       "      <td>67.000000</td>\n",
       "      <td>1080.000000</td>\n",
       "      <td>1290.000000</td>\n",
       "      <td>22.000000</td>\n",
       "      <td>28.000000</td>\n",
       "      <td>1180.000000</td>\n",
       "      <td>25.000000</td>\n",
       "      <td>0.000000</td>\n",
       "      <td>0.901800</td>\n",
       "      <td>4.400000</td>\n",
       "      <td>129.000000</td>\n",
       "      <td>669.000000</td>\n",
       "      <td>0.098200</td>\n",
       "    </tr>\n",
       "    <tr>\n",
       "      <th>75%</th>\n",
       "      <td>487.75000</td>\n",
       "      <td>15657.000000</td>\n",
       "      <td>17788.000000</td>\n",
       "      <td>27580.500000</td>\n",
       "      <td>27474.500000</td>\n",
       "      <td>60771.750000</td>\n",
       "      <td>105600.000000</td>\n",
       "      <td>78.000000</td>\n",
       "      <td>1180.000000</td>\n",
       "      <td>1380.000000</td>\n",
       "      <td>25.000000</td>\n",
       "      <td>31.000000</td>\n",
       "      <td>1272.500000</td>\n",
       "      <td>28.000000</td>\n",
       "      <td>1.000000</td>\n",
       "      <td>0.957930</td>\n",
       "      <td>7.400000</td>\n",
       "      <td>221.500000</td>\n",
       "      <td>2615.750000</td>\n",
       "      <td>0.214828</td>\n",
       "    </tr>\n",
       "    <tr>\n",
       "      <th>max</th>\n",
       "      <td>650.00000</td>\n",
       "      <td>65100.000000</td>\n",
       "      <td>75044.000000</td>\n",
       "      <td>47270.000000</td>\n",
       "      <td>50897.000000</td>\n",
       "      <td>75735.000000</td>\n",
       "      <td>158200.000000</td>\n",
       "      <td>100.000000</td>\n",
       "      <td>1530.000000</td>\n",
       "      <td>1590.000000</td>\n",
       "      <td>34.000000</td>\n",
       "      <td>35.000000</td>\n",
       "      <td>1560.000000</td>\n",
       "      <td>34.500000</td>\n",
       "      <td>1.000000</td>\n",
       "      <td>0.999928</td>\n",
       "      <td>13.900000</td>\n",
       "      <td>509.000000</td>\n",
       "      <td>25105.000000</td>\n",
       "      <td>0.767229</td>\n",
       "    </tr>\n",
       "  </tbody>\n",
       "</table>\n",
       "</div>"
      ],
      "text/plain": [
       "            Rank  Undergraduate Population  Student Population     Net Price  \\\n",
       "count  650.00000                650.000000          650.000000    648.000000   \n",
       "mean   325.50000              10002.692308        12022.290769  22336.947531   \n",
       "std    187.78312              11162.172430        13175.091581   8269.912032   \n",
       "min      1.00000                185.000000          386.000000      0.000000   \n",
       "25%    163.25000               2020.250000         2240.750000  16410.000000   \n",
       "50%    325.50000               4503.000000         6269.000000  21989.000000   \n",
       "75%    487.75000              15657.000000        17788.000000  27580.500000   \n",
       "max    650.00000              65100.000000        75044.000000  47270.000000   \n",
       "\n",
       "       Average Grant Aid  Total Annual Cost  Alumni Salary  Acceptance Rate  \\\n",
       "count         646.000000         650.000000     635.000000       648.000000   \n",
       "mean        20031.208978       50330.175385   98851.968504        61.597222   \n",
       "std         11175.869976       13223.055038   14335.249458        22.024781   \n",
       "min          2975.000000           0.000000   70700.000000         5.000000   \n",
       "25%          9288.250000       39917.000000   88600.000000        48.000000   \n",
       "50%         19605.000000       50265.000000   96400.000000        67.000000   \n",
       "75%         27474.500000       60771.750000  105600.000000        78.000000   \n",
       "max         50897.000000       75735.000000  158200.000000       100.000000   \n",
       "\n",
       "         SAT Lower    SAT Upper   ACT Lower   ACT Upper  SAT Average  \\\n",
       "count   551.000000   551.000000  553.000000  553.000000   551.000000   \n",
       "mean   1110.145191  1308.078040   23.278481   28.441230  1209.111615   \n",
       "std     127.744079   113.553237    3.729318    3.058115   119.091660   \n",
       "min     820.000000  1060.000000   15.000000   20.000000   964.000000   \n",
       "25%    1020.000000  1230.000000   21.000000   26.000000  1130.000000   \n",
       "50%    1080.000000  1290.000000   22.000000   28.000000  1180.000000   \n",
       "75%    1180.000000  1380.000000   25.000000   31.000000  1272.500000   \n",
       "max    1530.000000  1590.000000   34.000000   35.000000  1560.000000   \n",
       "\n",
       "       ACT Average      Public  Undergraduate Percentage  ACT Difference  \\\n",
       "count   553.000000  650.000000                650.000000      553.000000   \n",
       "mean     25.859855    0.384615                  0.851454        5.259855   \n",
       "std       3.352316    0.486879                  0.143043        3.352316   \n",
       "min      17.500000    0.000000                  0.232771       -3.100000   \n",
       "25%      23.500000    0.000000                  0.785172        2.900000   \n",
       "50%      25.000000    0.000000                  0.901800        4.400000   \n",
       "75%      28.000000    1.000000                  0.957930        7.400000   \n",
       "max      34.500000    1.000000                  0.999928       13.900000   \n",
       "\n",
       "       SAT Difference  Post-UG Population  Post-UG Percentage  \n",
       "count      551.000000          650.000000          650.000000  \n",
       "mean       158.111615         2019.598462            0.148546  \n",
       "std        119.091660         3266.257945            0.143043  \n",
       "min        -87.000000            1.000000            0.000072  \n",
       "25%         79.000000          140.000000            0.042070  \n",
       "50%        129.000000          669.000000            0.098200  \n",
       "75%        221.500000         2615.750000            0.214828  \n",
       "max        509.000000        25105.000000            0.767229  "
      ]
     },
     "execution_count": 8,
     "metadata": {},
     "output_type": "execute_result"
    }
   ],
   "source": [
    "df.describe()"
   ]
  },
  {
   "cell_type": "markdown",
   "metadata": {},
   "source": [
    "The first thing that jumps out to me is how varied the data is. For instance the Public column is a binary variable using zero and one, while the Student Population column has a range between 386 and 75044. Because of this, any machine learning models will place more weight to the variables with the larger values. I should standardize and scale the data so that everything will be weighted equally in the machine learning models."
   ]
  },
  {
   "cell_type": "code",
   "execution_count": 9,
   "metadata": {},
   "outputs": [
    {
     "data": {
      "text/plain": [
       "<AxesSubplot:>"
      ]
     },
     "execution_count": 9,
     "metadata": {},
     "output_type": "execute_result"
    },
    {
     "data": {
      "image/png": "[encoded data removed]",
      "text/plain": [
       "<Figure size 1152x576 with 2 Axes>"
      ]
     },
     "metadata": {
      "needs_background": "light"
     },
     "output_type": "display_data"
    }
   ],
   "source": [
    "df_corr = df.corr()\n",
    "plt.figure(figsize=(16,8))\n",
    "sns.heatmap(df_corr, annot=True)"
   ]
  },
  {
   "cell_type": "code",
   "execution_count": 10,
   "metadata": {},
   "outputs": [
    {
     "data": {
      "text/plain": [
       "Rank                        1.000000\n",
       "Acceptance Rate             0.628110\n",
       "Undergraduate Percentage    0.250042\n",
       "Public                      0.147599\n",
       "Undergraduate Population   -0.060859\n",
       "Student Population         -0.133249\n",
       "Post-UG Percentage         -0.250042\n",
       "Net Price                  -0.329445\n",
       "Post-UG Population         -0.329503\n",
       "Average Grant Aid          -0.445638\n",
       "Total Annual Cost          -0.552349\n",
       "Alumni Salary              -0.721772\n",
       "SAT Upper                  -0.822319\n",
       "ACT Upper                  -0.830561\n",
       "SAT Lower                  -0.834263\n",
       "SAT Average                -0.839476\n",
       "SAT Difference             -0.839476\n",
       "ACT Lower                  -0.849047\n",
       "ACT Difference             -0.851101\n",
       "ACT Average                -0.851101\n",
       "Name: Rank, dtype: float64"
      ]
     },
     "execution_count": 10,
     "metadata": {},
     "output_type": "execute_result"
    }
   ],
   "source": [
    "df_corr[\"Rank\"].sort_values(ascending=False)"
   ]
  },
  {
   "cell_type": "markdown",
   "metadata": {},
   "source": [
    "These correlations are what one would expect at first glance. Public schools with a more inclusive acceptance rate and a large portion of their population being undergraduate tend to be lowly ranked, while the higher test scores and alumni salary tend to go to higher ranked colleges."
   ]
  },
  {
   "cell_type": "code",
   "execution_count": 11,
   "metadata": {},
   "outputs": [
    {
     "data": {
      "text/plain": [
       "<AxesSubplot:xlabel='SAT Average', ylabel='Count'>"
      ]
     },
     "execution_count": 11,
     "metadata": {},
     "output_type": "execute_result"
    },
    {
     "data": {
      "image/png": "[encoded data removed]",
      "text/plain": [
       "<Figure size 1152x288 with 1 Axes>"
      ]
     },
     "metadata": {
      "needs_background": "light"
     },
     "output_type": "display_data"
    }
   ],
   "source": [
    "plt.figure(figsize=(16,4))\n",
    "sns.histplot(df['SAT Average'], kde=True)\n",
    "#average is 1051"
   ]
  },
  {
   "cell_type": "code",
   "execution_count": 12,
   "metadata": {},
   "outputs": [
    {
     "data": {
      "text/plain": [
       "<AxesSubplot:xlabel='ACT Average', ylabel='Count'>"
      ]
     },
     "execution_count": 12,
     "metadata": {},
     "output_type": "execute_result"
    },
    {
     "data": {
      "image/png": "[encoded data removed]",
      "text/plain": [
       "<Figure size 1152x288 with 1 Axes>"
      ]
     },
     "metadata": {
      "needs_background": "light"
     },
     "output_type": "display_data"
    }
   ],
   "source": [
    "plt.figure(figsize=(16,4))\n",
    "sns.histplot(df['ACT Average'], kde=True)\n",
    "#average is 20.6"
   ]
  },
  {
   "cell_type": "markdown",
   "metadata": {},
   "source": [
    "As both graphs show, the average test score -  which is the difference between the highest scoring studen and lowest scoring student - are usually higher than the average test scores of the population. This is a bit of comparing apples to oranges due to the different ways average scores are calculated here, but this does show that the colleges in this dataset typically go after higher scoring students.  "
   ]
  },
  {
   "cell_type": "code",
   "execution_count": 13,
   "metadata": {},
   "outputs": [
    {
     "data": {
      "image/png": "[encoded data removed]",
      "text/plain": [
       "<Figure size 720x432 with 1 Axes>"
      ]
     },
     "metadata": {
      "needs_background": "light"
     },
     "output_type": "display_data"
    }
   ],
   "source": [
    "state_rank=df['Rank'].groupby([df['State']]).count()\n",
    "state_rank.plot(kind='bar', title = 'Ranked Colleges by State', figsize = (10,6));\n"
   ]
  },
  {
   "cell_type": "code",
   "execution_count": 14,
   "metadata": {},
   "outputs": [
    {
     "data": {
      "text/html": [
       "<div>\n",
       "<style scoped>\n",
       "    .dataframe tbody tr th:only-of-type {\n",
       "        vertical-align: middle;\n",
       "    }\n",
       "\n",
       "    .dataframe tbody tr th {\n",
       "        vertical-align: top;\n",
       "    }\n",
       "\n",
       "    .dataframe thead th {\n",
       "        text-align: right;\n",
       "    }\n",
       "</style>\n",
       "<table border=\"1\" class=\"dataframe\">\n",
       "  <thead>\n",
       "    <tr style=\"text-align: right;\">\n",
       "      <th></th>\n",
       "      <th>Population</th>\n",
       "    </tr>\n",
       "    <tr>\n",
       "      <th>State</th>\n",
       "      <th></th>\n",
       "    </tr>\n",
       "  </thead>\n",
       "  <tbody>\n",
       "    <tr>\n",
       "      <th>AL</th>\n",
       "      <td>4903185</td>\n",
       "    </tr>\n",
       "    <tr>\n",
       "      <th>AK</th>\n",
       "      <td>731545</td>\n",
       "    </tr>\n",
       "    <tr>\n",
       "      <th>AZ</th>\n",
       "      <td>7278717</td>\n",
       "    </tr>\n",
       "  </tbody>\n",
       "</table>\n",
       "</div>"
      ],
      "text/plain": [
       "        Population\n",
       "State             \n",
       "AL         4903185\n",
       "AK          731545\n",
       "AZ         7278717"
      ]
     },
     "execution_count": 14,
     "metadata": {},
     "output_type": "execute_result"
    }
   ],
   "source": [
    "census = pd.read_excel('C:\\\\Users\\\\Woyte\\\\OneDrive\\\\Data\\\\nst-est2019-01.xlsx', sheet_name=1, index_col=0)\n",
    "census.head(3)"
   ]
  },
  {
   "cell_type": "code",
   "execution_count": 15,
   "metadata": {},
   "outputs": [],
   "source": [
    "census_sorted= census.sort_values('Population')\n",
    "state_rank_sorted = state_rank.sort_values()"
   ]
  },
  {
   "cell_type": "code",
   "execution_count": 16,
   "metadata": {},
   "outputs": [
    {
     "data": {
      "text/plain": [
       "<AxesSubplot:title={'center':'Population by State'}, xlabel='State '>"
      ]
     },
     "execution_count": 16,
     "metadata": {},
     "output_type": "execute_result"
    },
    {
     "data": {
      "image/png": "[encoded data removed]",
      "text/plain": [
       "<Figure size 720x432 with 1 Axes>"
      ]
     },
     "metadata": {
      "needs_background": "light"
     },
     "output_type": "display_data"
    }
   ],
   "source": [
    "census_sorted.plot(kind='bar', title = 'Population by State', figsize = (10,6))\n"
   ]
  },
  {
   "cell_type": "code",
   "execution_count": 17,
   "metadata": {},
   "outputs": [
    {
     "data": {
      "text/plain": [
       "<AxesSubplot:title={'center':'Ranked Colleges by State'}, xlabel='State'>"
      ]
     },
     "execution_count": 17,
     "metadata": {},
     "output_type": "execute_result"
    },
    {
     "data": {
      "image/png": "[encoded data removed]",
      "text/plain": [
       "<Figure size 720x432 with 1 Axes>"
      ]
     },
     "metadata": {
      "needs_background": "light"
     },
     "output_type": "display_data"
    }
   ],
   "source": [
    "state_rank_sorted.plot(kind='bar', title = 'Ranked Colleges by State', figsize = (10,6))"
   ]
  },
  {
   "cell_type": "markdown",
   "metadata": {},
   "source": [
    "As to be expected, the amount of ranked colleges in a state almost exactly follows the population distribution of the states. One notable exception to this is Texas, which is the second highest state by population, but only the seventh highest in terms of ranked universities. In fact, it should have around twice as many ranked universities as it does currently."
   ]
  },
  {
   "cell_type": "markdown",
   "metadata": {},
   "source": [
    "# Building a Model to Predict College Rankings"
   ]
  },
  {
   "cell_type": "code",
   "execution_count": 18,
   "metadata": {},
   "outputs": [],
   "source": [
    "from sklearn.model_selection import train_test_split \n",
    "from sklearn.impute import SimpleImputer\n",
    "from sklearn.preprocessing import StandardScaler\n",
    "from sklearn.pipeline import Pipeline"
   ]
  },
  {
   "cell_type": "markdown",
   "metadata": {},
   "source": [
    "### Step 1\n",
    "Step one of my machine learning process is preparing the data to be more useful to the algorithms. In this instance, that means removing all the columns made up of strings, as well as separating the predicted variable from the explainer variables. Furthermore, I'll be dividing the data between a train set and a test set. As the names imply, a training set is what the machine learning models are initially built off of, while the test set is used to test the model's accuracy. \n",
    "\n",
    "One does not want to use a training set for both training and testing as one could accidentally overfitt the model to the data, meaning, while the model is useful for the specific data used, if any more data is brought in, the model will become much more inaccurate than a model tested with a separate test set of data."
   ]
  },
  {
   "cell_type": "code",
   "execution_count": 19,
   "metadata": {},
   "outputs": [],
   "source": [
    "df=df.drop(['Name', 'City', 'State'], axis = 1)\n",
    "df_goal=df['Rank'].copy()\n",
    "df2=df.drop('Rank', axis=1)\n",
    "df_train, df_test, goal_train, goal_test = train_test_split(df2, df_goal, test_size=.33, random_state=42)"
   ]
  },
  {
   "cell_type": "code",
   "execution_count": 20,
   "metadata": {
    "scrolled": true
   },
   "outputs": [
    {
     "data": {
      "text/html": [
       "<div>\n",
       "<style scoped>\n",
       "    .dataframe tbody tr th:only-of-type {\n",
       "        vertical-align: middle;\n",
       "    }\n",
       "\n",
       "    .dataframe tbody tr th {\n",
       "        vertical-align: top;\n",
       "    }\n",
       "\n",
       "    .dataframe thead th {\n",
       "        text-align: right;\n",
       "    }\n",
       "</style>\n",
       "<table border=\"1\" class=\"dataframe\">\n",
       "  <thead>\n",
       "    <tr style=\"text-align: right;\">\n",
       "      <th></th>\n",
       "      <th>Undergraduate Population</th>\n",
       "      <th>Student Population</th>\n",
       "      <th>Net Price</th>\n",
       "      <th>Average Grant Aid</th>\n",
       "      <th>Total Annual Cost</th>\n",
       "      <th>Alumni Salary</th>\n",
       "      <th>Acceptance Rate</th>\n",
       "      <th>SAT Lower</th>\n",
       "      <th>SAT Upper</th>\n",
       "      <th>ACT Lower</th>\n",
       "      <th>ACT Upper</th>\n",
       "      <th>SAT Average</th>\n",
       "      <th>ACT Average</th>\n",
       "      <th>Public</th>\n",
       "      <th>Undergraduate Percentage</th>\n",
       "      <th>ACT Difference</th>\n",
       "      <th>SAT Difference</th>\n",
       "      <th>Post-UG Population</th>\n",
       "      <th>Post-UG Percentage</th>\n",
       "    </tr>\n",
       "  </thead>\n",
       "  <tbody>\n",
       "    <tr>\n",
       "      <th>522</th>\n",
       "      <td>22386.0</td>\n",
       "      <td>24375.0</td>\n",
       "      <td>15368.0</td>\n",
       "      <td>7270.0</td>\n",
       "      <td>43444.0</td>\n",
       "      <td>89900.0</td>\n",
       "      <td>86.0</td>\n",
       "      <td>980.0</td>\n",
       "      <td>1200.0</td>\n",
       "      <td>18.0</td>\n",
       "      <td>25.0</td>\n",
       "      <td>1090.0</td>\n",
       "      <td>21.5</td>\n",
       "      <td>1</td>\n",
       "      <td>0.918400</td>\n",
       "      <td>0.9</td>\n",
       "      <td>39.0</td>\n",
       "      <td>1989.0</td>\n",
       "      <td>0.081600</td>\n",
       "    </tr>\n",
       "    <tr>\n",
       "      <th>178</th>\n",
       "      <td>2367.0</td>\n",
       "      <td>2535.0</td>\n",
       "      <td>31014.0</td>\n",
       "      <td>25282.0</td>\n",
       "      <td>65330.0</td>\n",
       "      <td>101900.0</td>\n",
       "      <td>48.0</td>\n",
       "      <td>1140.0</td>\n",
       "      <td>1340.0</td>\n",
       "      <td>25.0</td>\n",
       "      <td>30.0</td>\n",
       "      <td>1240.0</td>\n",
       "      <td>27.5</td>\n",
       "      <td>0</td>\n",
       "      <td>0.933728</td>\n",
       "      <td>6.9</td>\n",
       "      <td>189.0</td>\n",
       "      <td>168.0</td>\n",
       "      <td>0.066272</td>\n",
       "    </tr>\n",
       "    <tr>\n",
       "      <th>260</th>\n",
       "      <td>29777.0</td>\n",
       "      <td>30896.0</td>\n",
       "      <td>20493.0</td>\n",
       "      <td>8263.0</td>\n",
       "      <td>44706.0</td>\n",
       "      <td>104800.0</td>\n",
       "      <td>79.0</td>\n",
       "      <td>1070.0</td>\n",
       "      <td>1300.0</td>\n",
       "      <td>22.0</td>\n",
       "      <td>28.0</td>\n",
       "      <td>1185.0</td>\n",
       "      <td>25.0</td>\n",
       "      <td>1</td>\n",
       "      <td>0.963782</td>\n",
       "      <td>4.4</td>\n",
       "      <td>134.0</td>\n",
       "      <td>1119.0</td>\n",
       "      <td>0.036218</td>\n",
       "    </tr>\n",
       "  </tbody>\n",
       "</table>\n",
       "</div>"
      ],
      "text/plain": [
       "     Undergraduate Population  Student Population  Net Price  \\\n",
       "522                   22386.0             24375.0    15368.0   \n",
       "178                    2367.0              2535.0    31014.0   \n",
       "260                   29777.0             30896.0    20493.0   \n",
       "\n",
       "     Average Grant Aid  Total Annual Cost  Alumni Salary  Acceptance Rate  \\\n",
       "522             7270.0            43444.0        89900.0             86.0   \n",
       "178            25282.0            65330.0       101900.0             48.0   \n",
       "260             8263.0            44706.0       104800.0             79.0   \n",
       "\n",
       "     SAT Lower  SAT Upper  ACT Lower  ACT Upper  SAT Average  ACT Average  \\\n",
       "522      980.0     1200.0       18.0       25.0       1090.0         21.5   \n",
       "178     1140.0     1340.0       25.0       30.0       1240.0         27.5   \n",
       "260     1070.0     1300.0       22.0       28.0       1185.0         25.0   \n",
       "\n",
       "     Public  Undergraduate Percentage  ACT Difference  SAT Difference  \\\n",
       "522       1                  0.918400             0.9            39.0   \n",
       "178       0                  0.933728             6.9           189.0   \n",
       "260       1                  0.963782             4.4           134.0   \n",
       "\n",
       "     Post-UG Population  Post-UG Percentage  \n",
       "522              1989.0            0.081600  \n",
       "178               168.0            0.066272  \n",
       "260              1119.0            0.036218  "
      ]
     },
     "execution_count": 20,
     "metadata": {},
     "output_type": "execute_result"
    }
   ],
   "source": [
    "df_train.head(3)"
   ]
  },
  {
   "cell_type": "markdown",
   "metadata": {},
   "source": [
    "To prepare the data more, I will also be standardizing the data so that the whole set will have similar deviations. I will also be implementing an imputer to fill in the nulls values in the data with an estimate of what they could be based on the column's median value. I am doing this to save as much of the data as possible, but later I will make a regressor model without the imputer to see how it compares."
   ]
  },
  {
   "cell_type": "code",
   "execution_count": 21,
   "metadata": {},
   "outputs": [],
   "source": [
    "standardscaler = StandardScaler()\n",
    "imputer = SimpleImputer(strategy='median')\n",
    "pipe = Pipeline([('std', standardscaler), ('imputer', imputer)])\n",
    "pipe.fit(df_train, goal_train)\n",
    "df_train2 = pipe.transform(df_train)\n",
    "df_test2 = pipe.transform(df_test)"
   ]
  },
  {
   "cell_type": "markdown",
   "metadata": {},
   "source": [
    "### First Model: K-Nearest Neighbors\n",
    "\n",
    "The first model we will run is a KNN model. This model is one of the simplest machine learning models to run, meaning it also takes much less resources on the system than a more complex model. Typically one should use the simplest model first in order to save on resources. In the case of K-Nearest Neighbors, it takes the given records and compares them to the records with the variables closest to them. So if I wanted to know what rank a public university with an acceptance rate of 70% and a net price of $18,000, the model will look at the closest public universities with a similar acceptance rate and net price. \n",
    "\n",
    "Every model will be judged by two criteria: the RMSE, or root mean squared error, and the cross validation accuracy score. RMSE refers to the absolute value of the error in a predicted value. So if the model predicts a college will be ranked 4th, but in reality it was ranked 2nd, then the RMSE of the prediction would be two. Cross validation is typically used when the data is rather limites or as a way to protect against overfitting the data. Basically the training set will be split up many more times and iterations of the machine learning algorithm will be fitted and tested against the partitions. You can then average out the accuracy of the partitions, and get an overall accuracy score for the predictions."
   ]
  },
  {
   "cell_type": "code",
   "execution_count": 22,
   "metadata": {},
   "outputs": [],
   "source": [
    "from sklearn.neighbors import KNeighborsRegressor\n",
    "from sklearn.metrics import mean_squared_error\n",
    "from sklearn.model_selection import cross_val_score"
   ]
  },
  {
   "cell_type": "code",
   "execution_count": 23,
   "metadata": {},
   "outputs": [
    {
     "data": {
      "text/plain": [
       "[<matplotlib.lines.Line2D at 0x1f053681e50>]"
      ]
     },
     "execution_count": 23,
     "metadata": {},
     "output_type": "execute_result"
    },
    {
     "data": {
      "image/png": "[encoded data removed]",
      "text/plain": [
       "<Figure size 432x288 with 1 Axes>"
      ]
     },
     "metadata": {
      "needs_background": "light"
     },
     "output_type": "display_data"
    }
   ],
   "source": [
    "n_neighbors =list(range(1, 10))\n",
    "accuracy = []\n",
    "for neighbor in n_neighbors:\n",
    "    clf = KNeighborsRegressor(n_neighbors = neighbor)\n",
    "    clf.fit(df_train2, goal_train)\n",
    "    score = clf.score(df_test2, goal_test)\n",
    "    accuracy.append(score)\n",
    "plt.grid(True)\n",
    "plt.plot(accuracy)"
   ]
  },
  {
   "cell_type": "markdown",
   "metadata": {},
   "source": [
    "Many machine learning models allow for parameter tuning to get the best predictive results. In the case of K-Nearest Neighbors, one can choose the amount of neighbors closest to the college being predicted. One might think that more is always better, but adding more neighbors takes more system resources and can hurt the predictive capabilities of the model. In the case of the above, we can see that the model is most accurate when limited to four nearest neighbors. "
   ]
  },
  {
   "cell_type": "code",
   "execution_count": 24,
   "metadata": {},
   "outputs": [],
   "source": [
    "knn = KNeighborsRegressor(n_neighbors = 4)\n",
    "knn.fit(df_train2, goal_train)\n",
    "knn_predict = knn.predict(df_test2)\n",
    "knn_mse = np.power(goal_test - knn_predict, 2).mean()"
   ]
  },
  {
   "cell_type": "code",
   "execution_count": 25,
   "metadata": {},
   "outputs": [
    {
     "data": {
      "text/plain": [
       "9319.088662790698"
      ]
     },
     "execution_count": 25,
     "metadata": {},
     "output_type": "execute_result"
    }
   ],
   "source": [
    "knn_mse"
   ]
  },
  {
   "cell_type": "code",
   "execution_count": 26,
   "metadata": {},
   "outputs": [
    {
     "data": {
      "text/plain": [
       "9319.088662790698"
      ]
     },
     "execution_count": 26,
     "metadata": {},
     "output_type": "execute_result"
    }
   ],
   "source": [
    "mean_squared_error(goal_test, knn_predict)"
   ]
  },
  {
   "cell_type": "code",
   "execution_count": 27,
   "metadata": {},
   "outputs": [
    {
     "data": {
      "text/plain": [
       "96.53542698300298"
      ]
     },
     "execution_count": 27,
     "metadata": {},
     "output_type": "execute_result"
    }
   ],
   "source": [
    "knn_rmse= knn_mse ** .5\n",
    "knn_rmse"
   ]
  },
  {
   "cell_type": "markdown",
   "metadata": {},
   "source": [
    "The accuracy score given while doing parameter tuning was not a robust score. It was good for determining the best number of parameters to use, but it is likely off by at least a little bit due to only running the model once on a select subset of the data. Therefore I'll be using cross validation to get a more accurate score."
   ]
  },
  {
   "cell_type": "code",
   "execution_count": 28,
   "metadata": {},
   "outputs": [
    {
     "data": {
      "text/plain": [
       "array([0.794885  , 0.71838554, 0.8986766 , 0.81744243, 0.7089424 ,\n",
       "       0.68471291, 0.59426826, 0.76292426, 0.63861639, 0.77691769])"
      ]
     },
     "execution_count": 28,
     "metadata": {},
     "output_type": "execute_result"
    }
   ],
   "source": [
    "knn_scores = cross_val_score(knn, df_test2, goal_test, cv=10)\n",
    "knn_scores\n"
   ]
  },
  {
   "cell_type": "code",
   "execution_count": 29,
   "metadata": {},
   "outputs": [
    {
     "data": {
      "text/plain": [
       "0.7395771478536421"
      ]
     },
     "execution_count": 29,
     "metadata": {},
     "output_type": "execute_result"
    }
   ],
   "source": [
    "knn_scores.mean()"
   ]
  },
  {
   "cell_type": "markdown",
   "metadata": {},
   "source": [
    "With an RMSE of 96.5 and an accuracy score of 73.9%, this model isn't a great predictor of a college's rank. It's accuracy score is respectable, but the RMSE of 96.5 means that it won't predict much. There is a huge difference in a college in the top 10 and a college in the top 100, yet the model is likely to miss the correct ranking of a college by about the same amount. We will be moving on to other models to try and get a effective model."
   ]
  },
  {
   "cell_type": "markdown",
   "metadata": {},
   "source": [
    "### Second Model: Linear Regression\n",
    "\n",
    "The second model will be a linear regression. Linear regressions are also a simpler type of regression, but, depending on the variables involved, they are generally more complex than KNN. I'll be building a linear regression model using two methods. This is because, while Sci-Kit Learn's regressions allow a user to do many things, they don't allow you to analyse individual variables, something offered by Statemodels. So I'll be using both."
   ]
  },
  {
   "cell_type": "code",
   "execution_count": 30,
   "metadata": {},
   "outputs": [],
   "source": [
    "from sklearn.linear_model import LinearRegression\n",
    "import statsmodels.api as sm\n",
    "reg = LinearRegression()\n",
    "reg.fit(df_train2, goal_train)\n",
    "reg_predict = reg.predict(df_test2)"
   ]
  },
  {
   "cell_type": "code",
   "execution_count": 31,
   "metadata": {},
   "outputs": [
    {
     "data": {
      "text/plain": [
       "10302.234400465317"
      ]
     },
     "execution_count": 31,
     "metadata": {},
     "output_type": "execute_result"
    }
   ],
   "source": [
    "reg_mse = np.power(goal_test - reg_predict, 2).mean()\n",
    "reg_mse"
   ]
  },
  {
   "cell_type": "code",
   "execution_count": 32,
   "metadata": {
    "scrolled": true
   },
   "outputs": [
    {
     "data": {
      "text/plain": [
       "10302.234400465317"
      ]
     },
     "execution_count": 32,
     "metadata": {},
     "output_type": "execute_result"
    }
   ],
   "source": [
    "mean_squared_error(goal_test, reg_predict)"
   ]
  },
  {
   "cell_type": "code",
   "execution_count": 33,
   "metadata": {},
   "outputs": [
    {
     "data": {
      "text/plain": [
       "101.49992315497248"
      ]
     },
     "execution_count": 33,
     "metadata": {},
     "output_type": "execute_result"
    }
   ],
   "source": [
    "reg_rmse= reg_mse **.5\n",
    "reg_rmse"
   ]
  },
  {
   "cell_type": "code",
   "execution_count": 34,
   "metadata": {},
   "outputs": [
    {
     "data": {
      "text/plain": [
       "array([0.74019212, 0.64185176, 0.80766255, 0.77701872, 0.73228213,\n",
       "       0.65909261, 0.6692306 , 0.72233914, 0.73605185, 0.74614342])"
      ]
     },
     "execution_count": 34,
     "metadata": {},
     "output_type": "execute_result"
    }
   ],
   "source": [
    "reg_scores = cross_val_score(reg, df_test2, goal_test, cv=10)\n",
    "reg_scores\n"
   ]
  },
  {
   "cell_type": "code",
   "execution_count": 35,
   "metadata": {},
   "outputs": [
    {
     "data": {
      "text/plain": [
       "0.7231864884213678"
      ]
     },
     "execution_count": 35,
     "metadata": {},
     "output_type": "execute_result"
    }
   ],
   "source": [
    "reg_scores.mean()\n"
   ]
  },
  {
   "cell_type": "code",
   "execution_count": 36,
   "metadata": {},
   "outputs": [
    {
     "data": {
      "text/html": [
       "<table class=\"simpletable\">\n",
       "<caption>OLS Regression Results</caption>\n",
       "<tr>\n",
       "  <th>Dep. Variable:</th>          <td>Rank</td>       <th>  R-squared:         </th> <td>   0.753</td> \n",
       "</tr>\n",
       "<tr>\n",
       "  <th>Model:</th>                   <td>OLS</td>       <th>  Adj. R-squared:    </th> <td>   0.745</td> \n",
       "</tr>\n",
       "<tr>\n",
       "  <th>Method:</th>             <td>Least Squares</td>  <th>  F-statistic:       </th> <td>   91.41</td> \n",
       "</tr>\n",
       "<tr>\n",
       "  <th>Date:</th>             <td>Mon, 13 Sep 2021</td> <th>  Prob (F-statistic):</th> <td>7.74e-118</td>\n",
       "</tr>\n",
       "<tr>\n",
       "  <th>Time:</th>                 <td>20:49:51</td>     <th>  Log-Likelihood:    </th> <td> -2588.4</td> \n",
       "</tr>\n",
       "<tr>\n",
       "  <th>No. Observations:</th>      <td>   435</td>      <th>  AIC:               </th> <td>   5207.</td> \n",
       "</tr>\n",
       "<tr>\n",
       "  <th>Df Residuals:</th>          <td>   420</td>      <th>  BIC:               </th> <td>   5268.</td> \n",
       "</tr>\n",
       "<tr>\n",
       "  <th>Df Model:</th>              <td>    14</td>      <th>                     </th>     <td> </td>    \n",
       "</tr>\n",
       "<tr>\n",
       "  <th>Covariance Type:</th>      <td>nonrobust</td>    <th>                     </th>     <td> </td>    \n",
       "</tr>\n",
       "</table>\n",
       "<table class=\"simpletable\">\n",
       "<tr>\n",
       "    <td></td>       <th>coef</th>     <th>std err</th>      <th>t</th>      <th>P>|t|</th>  <th>[0.025</th>    <th>0.975]</th>  \n",
       "</tr>\n",
       "<tr>\n",
       "  <th>const</th> <td>  328.7755</td> <td>    5.059</td> <td>   64.991</td> <td> 0.000</td> <td>  318.832</td> <td>  338.719</td>\n",
       "</tr>\n",
       "<tr>\n",
       "  <th>x1</th>    <td>  -20.4626</td> <td>    5.775</td> <td>   -3.544</td> <td> 0.000</td> <td>  -31.813</td> <td>   -9.112</td>\n",
       "</tr>\n",
       "<tr>\n",
       "  <th>x2</th>    <td>  -15.3993</td> <td>    3.476</td> <td>   -4.430</td> <td> 0.000</td> <td>  -22.232</td> <td>   -8.566</td>\n",
       "</tr>\n",
       "<tr>\n",
       "  <th>x3</th>    <td>  -22.9348</td> <td>    9.319</td> <td>   -2.461</td> <td> 0.014</td> <td>  -41.252</td> <td>   -4.618</td>\n",
       "</tr>\n",
       "<tr>\n",
       "  <th>x4</th>    <td>   26.9552</td> <td>   14.075</td> <td>    1.915</td> <td> 0.056</td> <td>   -0.710</td> <td>   54.621</td>\n",
       "</tr>\n",
       "<tr>\n",
       "  <th>x5</th>    <td>  -47.8183</td> <td>   12.510</td> <td>   -3.822</td> <td> 0.000</td> <td>  -72.408</td> <td>  -23.228</td>\n",
       "</tr>\n",
       "<tr>\n",
       "  <th>x6</th>    <td>  -42.5044</td> <td>    6.724</td> <td>   -6.322</td> <td> 0.000</td> <td>  -55.720</td> <td>  -29.288</td>\n",
       "</tr>\n",
       "<tr>\n",
       "  <th>x7</th>    <td>   29.3555</td> <td>    6.753</td> <td>    4.347</td> <td> 0.000</td> <td>   16.083</td> <td>   42.629</td>\n",
       "</tr>\n",
       "<tr>\n",
       "  <th>x8</th>    <td>   38.5810</td> <td>  169.204</td> <td>    0.228</td> <td> 0.820</td> <td> -294.010</td> <td>  371.172</td>\n",
       "</tr>\n",
       "<tr>\n",
       "  <th>x9</th>    <td>   26.0582</td> <td>  149.456</td> <td>    0.174</td> <td> 0.862</td> <td> -267.716</td> <td>  319.832</td>\n",
       "</tr>\n",
       "<tr>\n",
       "  <th>x10</th>   <td>  -15.5589</td> <td>   18.712</td> <td>   -0.831</td> <td> 0.406</td> <td>  -52.340</td> <td>   21.222</td>\n",
       "</tr>\n",
       "<tr>\n",
       "  <th>x11</th>   <td>  -19.7339</td> <td>   19.315</td> <td>   -1.022</td> <td> 0.308</td> <td>  -57.699</td> <td>   18.231</td>\n",
       "</tr>\n",
       "<tr>\n",
       "  <th>x12</th>   <td>  -45.1689</td> <td>  157.650</td> <td>   -0.287</td> <td> 0.775</td> <td> -355.050</td> <td>  264.712</td>\n",
       "</tr>\n",
       "<tr>\n",
       "  <th>x13</th>   <td>  -17.6337</td> <td>    4.215</td> <td>   -4.183</td> <td> 0.000</td> <td>  -25.919</td> <td>   -9.348</td>\n",
       "</tr>\n",
       "<tr>\n",
       "  <th>x14</th>   <td>    1.7050</td> <td>   11.227</td> <td>    0.152</td> <td> 0.879</td> <td>  -20.363</td> <td>   23.772</td>\n",
       "</tr>\n",
       "<tr>\n",
       "  <th>x15</th>   <td>   -5.5583</td> <td>    3.489</td> <td>   -1.593</td> <td> 0.112</td> <td>  -12.416</td> <td>    1.300</td>\n",
       "</tr>\n",
       "<tr>\n",
       "  <th>x16</th>   <td>  -17.6337</td> <td>    4.215</td> <td>   -4.183</td> <td> 0.000</td> <td>  -25.919</td> <td>   -9.348</td>\n",
       "</tr>\n",
       "<tr>\n",
       "  <th>x17</th>   <td>  -45.1689</td> <td>  157.650</td> <td>   -0.287</td> <td> 0.775</td> <td> -355.050</td> <td>  264.712</td>\n",
       "</tr>\n",
       "<tr>\n",
       "  <th>x18</th>   <td>    7.9363</td> <td>    9.090</td> <td>    0.873</td> <td> 0.383</td> <td>   -9.931</td> <td>   25.803</td>\n",
       "</tr>\n",
       "<tr>\n",
       "  <th>x19</th>   <td>    5.5583</td> <td>    3.489</td> <td>    1.593</td> <td> 0.112</td> <td>   -1.300</td> <td>   12.416</td>\n",
       "</tr>\n",
       "</table>\n",
       "<table class=\"simpletable\">\n",
       "<tr>\n",
       "  <th>Omnibus:</th>       <td> 1.895</td> <th>  Durbin-Watson:     </th> <td>   1.906</td>\n",
       "</tr>\n",
       "<tr>\n",
       "  <th>Prob(Omnibus):</th> <td> 0.388</td> <th>  Jarque-Bera (JB):  </th> <td>   1.718</td>\n",
       "</tr>\n",
       "<tr>\n",
       "  <th>Skew:</th>          <td>-0.081</td> <th>  Prob(JB):          </th> <td>   0.424</td>\n",
       "</tr>\n",
       "<tr>\n",
       "  <th>Kurtosis:</th>      <td> 3.261</td> <th>  Cond. No.          </th> <td>1.61e+16</td>\n",
       "</tr>\n",
       "</table><br/><br/>Notes:<br/>[1] Standard Errors assume that the covariance matrix of the errors is correctly specified.<br/>[2] The smallest eigenvalue is 1.52e-29. This might indicate that there are<br/>strong multicollinearity problems or that the design matrix is singular."
      ],
      "text/plain": [
       "<class 'statsmodels.iolib.summary.Summary'>\n",
       "\"\"\"\n",
       "                            OLS Regression Results                            \n",
       "==============================================================================\n",
       "Dep. Variable:                   Rank   R-squared:                       0.753\n",
       "Model:                            OLS   Adj. R-squared:                  0.745\n",
       "Method:                 Least Squares   F-statistic:                     91.41\n",
       "Date:                Mon, 13 Sep 2021   Prob (F-statistic):          7.74e-118\n",
       "Time:                        20:49:51   Log-Likelihood:                -2588.4\n",
       "No. Observations:                 435   AIC:                             5207.\n",
       "Df Residuals:                     420   BIC:                             5268.\n",
       "Df Model:                          14                                         \n",
       "Covariance Type:            nonrobust                                         \n",
       "==============================================================================\n",
       "                 coef    std err          t      P>|t|      [0.025      0.975]\n",
       "------------------------------------------------------------------------------\n",
       "const        328.7755      5.059     64.991      0.000     318.832     338.719\n",
       "x1           -20.4626      5.775     -3.544      0.000     -31.813      -9.112\n",
       "x2           -15.3993      3.476     -4.430      0.000     -22.232      -8.566\n",
       "x3           -22.9348      9.319     -2.461      0.014     -41.252      -4.618\n",
       "x4            26.9552     14.075      1.915      0.056      -0.710      54.621\n",
       "x5           -47.8183     12.510     -3.822      0.000     -72.408     -23.228\n",
       "x6           -42.5044      6.724     -6.322      0.000     -55.720     -29.288\n",
       "x7            29.3555      6.753      4.347      0.000      16.083      42.629\n",
       "x8            38.5810    169.204      0.228      0.820    -294.010     371.172\n",
       "x9            26.0582    149.456      0.174      0.862    -267.716     319.832\n",
       "x10          -15.5589     18.712     -0.831      0.406     -52.340      21.222\n",
       "x11          -19.7339     19.315     -1.022      0.308     -57.699      18.231\n",
       "x12          -45.1689    157.650     -0.287      0.775    -355.050     264.712\n",
       "x13          -17.6337      4.215     -4.183      0.000     -25.919      -9.348\n",
       "x14            1.7050     11.227      0.152      0.879     -20.363      23.772\n",
       "x15           -5.5583      3.489     -1.593      0.112     -12.416       1.300\n",
       "x16          -17.6337      4.215     -4.183      0.000     -25.919      -9.348\n",
       "x17          -45.1689    157.650     -0.287      0.775    -355.050     264.712\n",
       "x18            7.9363      9.090      0.873      0.383      -9.931      25.803\n",
       "x19            5.5583      3.489      1.593      0.112      -1.300      12.416\n",
       "==============================================================================\n",
       "Omnibus:                        1.895   Durbin-Watson:                   1.906\n",
       "Prob(Omnibus):                  0.388   Jarque-Bera (JB):                1.718\n",
       "Skew:                          -0.081   Prob(JB):                        0.424\n",
       "Kurtosis:                       3.261   Cond. No.                     1.61e+16\n",
       "==============================================================================\n",
       "\n",
       "Notes:\n",
       "[1] Standard Errors assume that the covariance matrix of the errors is correctly specified.\n",
       "[2] The smallest eigenvalue is 1.52e-29. This might indicate that there are\n",
       "strong multicollinearity problems or that the design matrix is singular.\n",
       "\"\"\""
      ]
     },
     "execution_count": 36,
     "metadata": {},
     "output_type": "execute_result"
    }
   ],
   "source": [
    "x=sm.add_constant(df_train2)\n",
    "model = sm.OLS(goal_train, x)\n",
    "results = model.fit()\n",
    "results.summary()"
   ]
  },
  {
   "cell_type": "markdown",
   "metadata": {},
   "source": [
    "### Third Model: Random Forest Regressor\n",
    "\n",
    "This model is by far the most complex of the models used. Similar to how cross validation treats training data, random forest regressors takes a decision tree and runs multiple iterations against the data, averaging out the iterations. It's a great overall model and tends to work better on more complex datasets."
   ]
  },
  {
   "cell_type": "code",
   "execution_count": 37,
   "metadata": {},
   "outputs": [
    {
     "data": {
      "text/plain": [
       "6960.33954604651"
      ]
     },
     "execution_count": 37,
     "metadata": {},
     "output_type": "execute_result"
    }
   ],
   "source": [
    "from sklearn.ensemble import RandomForestRegressor\n",
    "forest=RandomForestRegressor(random_state=42)\n",
    "forest.fit(df_train2, goal_train)\n",
    "forest_predict = forest.predict(df_test2)\n",
    "forest_mse = np.power(goal_test - forest_predict, 2).mean()\n",
    "forest_mse"
   ]
  },
  {
   "cell_type": "code",
   "execution_count": 38,
   "metadata": {},
   "outputs": [
    {
     "data": {
      "text/plain": [
       "83.42864943199375"
      ]
     },
     "execution_count": 38,
     "metadata": {},
     "output_type": "execute_result"
    }
   ],
   "source": [
    "forest_rmse= forest_mse **.5\n",
    "forest_rmse"
   ]
  },
  {
   "cell_type": "code",
   "execution_count": 39,
   "metadata": {},
   "outputs": [
    {
     "data": {
      "text/plain": [
       "array([0.86632698, 0.75866635, 0.83249986, 0.8694084 , 0.69275768,\n",
       "       0.75625868, 0.74860723, 0.81315518, 0.83219168, 0.8311133 ])"
      ]
     },
     "execution_count": 39,
     "metadata": {},
     "output_type": "execute_result"
    }
   ],
   "source": [
    "forest_scores = cross_val_score(forest, df_test2, goal_test, cv=10)\n",
    "forest_scores"
   ]
  },
  {
   "cell_type": "code",
   "execution_count": 40,
   "metadata": {},
   "outputs": [
    {
     "data": {
      "text/plain": [
       "0.8000985332657431"
      ]
     },
     "execution_count": 40,
     "metadata": {},
     "output_type": "execute_result"
    }
   ],
   "source": [
    "forest_scores.mean()"
   ]
  },
  {
   "cell_type": "markdown",
   "metadata": {},
   "source": [
    "With an RMSE of 83.4, over ten digits under the RMSE of the KNN model, and an accuracy of 80% - 6% higher than the accuracy of the KNN model, this model performs better against the data to a sizable degree compared to the other models.\n",
    "\n",
    "That being said, a standard error in predicting a rank being 83.4 digits is not a good predictor. The most likely reason for this being that the parameter variables given are not themselves a strong enough predictor for a college rank, suggesting that more information is used to determine a college's ranking than just the ones given. "
   ]
  },
  {
   "cell_type": "markdown",
   "metadata": {},
   "source": [
    "# No Impute\n",
    "\n",
    "The goal of the following analysis is to test the best predictive model from our previous selections and test it against a copy of the dataset where I removed all the records with null values instead of using estimated values. \n",
    "\n",
    "For this test I will just be using the random forest regressor. While normally it'd be worth testing more models, since the predicted and predictor variables aren't changing outside of the null values, it's more efficient to just bring the best predictive model over."
   ]
  },
  {
   "cell_type": "code",
   "execution_count": 41,
   "metadata": {},
   "outputs": [],
   "source": [
    "df3=df.dropna()\n",
    "df3_goal=df3['Rank'].copy()\n",
    "df3=df3.drop(['Rank'], axis=1)\n"
   ]
  },
  {
   "cell_type": "code",
   "execution_count": 42,
   "metadata": {},
   "outputs": [],
   "source": [
    "df_train3, df_test3, goal_train3, goal_test3 = train_test_split(df3, df3_goal, test_size=.33, random_state=42)\n",
    "pipe2 = Pipeline([('std', standardscaler)])\n",
    "pipe2.fit(df_train3, goal_train3)\n",
    "df_train4 = pipe.transform(df_train3)\n",
    "df_test4 = pipe.transform(df_test3)"
   ]
  },
  {
   "cell_type": "code",
   "execution_count": 43,
   "metadata": {},
   "outputs": [
    {
     "data": {
      "text/plain": [
       "6346.378575722541"
      ]
     },
     "execution_count": 43,
     "metadata": {},
     "output_type": "execute_result"
    }
   ],
   "source": [
    "forest2=RandomForestRegressor(random_state=42)\n",
    "forest2.fit(df_train4, goal_train3)\n",
    "forest2_predict = forest2.predict(df_test4)\n",
    "forest2_mse = np.power(goal_test3 - forest2_predict, 2).mean()\n",
    "forest2_mse"
   ]
  },
  {
   "cell_type": "code",
   "execution_count": 44,
   "metadata": {},
   "outputs": [
    {
     "data": {
      "text/plain": [
       "79.66416117503869"
      ]
     },
     "execution_count": 44,
     "metadata": {},
     "output_type": "execute_result"
    }
   ],
   "source": [
    "forest2_rmse= forest2_mse **.5\n",
    "forest2_rmse"
   ]
  },
  {
   "cell_type": "code",
   "execution_count": 45,
   "metadata": {},
   "outputs": [
    {
     "data": {
      "text/plain": [
       "array([0.78817466, 0.77596259, 0.79245394, 0.83675126, 0.83025825,\n",
       "       0.84631427, 0.60307723, 0.6617484 , 0.814059  , 0.80734403])"
      ]
     },
     "execution_count": 45,
     "metadata": {},
     "output_type": "execute_result"
    }
   ],
   "source": [
    "forest_scores2 = cross_val_score(forest2, df_test4, goal_test3, cv=10)\n",
    "forest_scores2"
   ]
  },
  {
   "cell_type": "code",
   "execution_count": 46,
   "metadata": {},
   "outputs": [
    {
     "data": {
      "text/plain": [
       "0.7756143634832479"
      ]
     },
     "execution_count": 46,
     "metadata": {},
     "output_type": "execute_result"
    }
   ],
   "source": [
    "forest_scores2.mean()"
   ]
  },
  {
   "cell_type": "markdown",
   "metadata": {},
   "source": [
    "With an RMSE of 79.66 - around four digits off of the RMSE with imputation - and a cross validation accuracy score of 77.56% - around 2.5% below the accuracy score with imputation - it depends on what metric you focus on to determine which method is better. Dropping the nulls proved to make the model slightly more predictive, yet slightly less accurate. Due to the change in RMSE being larger, I'm going to rely on it for determining the better model. After all, The difference in accuracy scores might not be statistically significant. Therefore I'll forgo imputations in future models."
   ]
  },
  {
   "cell_type": "markdown",
   "metadata": {},
   "source": [
    "## Predicting Alumni Salary\n",
    "\n",
    "Due to a lack of subjectivity, alumni salary is a potentially better variable for determining the greatness of a college while also being easier to predict. These algorithms will be designed with the nulls removed instead of estimated. "
   ]
  },
  {
   "cell_type": "code",
   "execution_count": 47,
   "metadata": {},
   "outputs": [
    {
     "data": {
      "text/plain": [
       "Alumni Salary               1.000000\n",
       "SAT Lower                   0.692809\n",
       "SAT Average                 0.688489\n",
       "SAT Difference              0.688489\n",
       "ACT Lower                   0.684012\n",
       "ACT Difference              0.676508\n",
       "ACT Average                 0.676508\n",
       "SAT Upper                   0.665051\n",
       "ACT Upper                   0.649847\n",
       "Total Annual Cost           0.398787\n",
       "Average Grant Aid           0.377548\n",
       "Post-UG Population          0.320138\n",
       "Post-UG Percentage          0.297272\n",
       "Net Price                   0.191580\n",
       "Student Population          0.107621\n",
       "Undergraduate Population    0.032952\n",
       "Public                     -0.045116\n",
       "Undergraduate Percentage   -0.297272\n",
       "Acceptance Rate            -0.556903\n",
       "Rank                       -0.721772\n",
       "Name: Alumni Salary, dtype: float64"
      ]
     },
     "execution_count": 47,
     "metadata": {},
     "output_type": "execute_result"
    }
   ],
   "source": [
    "df_corr['Alumni Salary'].sort_values(ascending=False)"
   ]
  },
  {
   "cell_type": "markdown",
   "metadata": {},
   "source": [
    "As we can see, the variables most correlated to Almunmni Salary are the same variables most correlated to a college's rank. "
   ]
  },
  {
   "cell_type": "code",
   "execution_count": 48,
   "metadata": {},
   "outputs": [
    {
     "data": {
      "text/html": [
       "<div>\n",
       "<style scoped>\n",
       "    .dataframe tbody tr th:only-of-type {\n",
       "        vertical-align: middle;\n",
       "    }\n",
       "\n",
       "    .dataframe tbody tr th {\n",
       "        vertical-align: top;\n",
       "    }\n",
       "\n",
       "    .dataframe thead th {\n",
       "        text-align: right;\n",
       "    }\n",
       "</style>\n",
       "<table border=\"1\" class=\"dataframe\">\n",
       "  <thead>\n",
       "    <tr style=\"text-align: right;\">\n",
       "      <th></th>\n",
       "      <th>Rank</th>\n",
       "      <th>Undergraduate Population</th>\n",
       "      <th>Student Population</th>\n",
       "      <th>Average Grant Aid</th>\n",
       "      <th>Total Annual Cost</th>\n",
       "      <th>Alumni Salary</th>\n",
       "      <th>Acceptance Rate</th>\n",
       "      <th>SAT Lower</th>\n",
       "      <th>SAT Upper</th>\n",
       "      <th>ACT Lower</th>\n",
       "      <th>ACT Upper</th>\n",
       "      <th>SAT Average</th>\n",
       "      <th>ACT Average</th>\n",
       "      <th>Public</th>\n",
       "      <th>Undergraduate Percentage</th>\n",
       "      <th>ACT Difference</th>\n",
       "      <th>SAT Difference</th>\n",
       "      <th>Post-UG Population</th>\n",
       "      <th>Post-UG Percentage</th>\n",
       "    </tr>\n",
       "  </thead>\n",
       "  <tbody>\n",
       "    <tr>\n",
       "      <th>601</th>\n",
       "      <td>602.0</td>\n",
       "      <td>2814.0</td>\n",
       "      <td>3343.0</td>\n",
       "      <td>6195.0</td>\n",
       "      <td>35144.0</td>\n",
       "      <td>81500.0</td>\n",
       "      <td>86.0</td>\n",
       "      <td>990.0</td>\n",
       "      <td>1200.0</td>\n",
       "      <td>20.0</td>\n",
       "      <td>25.0</td>\n",
       "      <td>1095.0</td>\n",
       "      <td>22.5</td>\n",
       "      <td>1</td>\n",
       "      <td>0.841759</td>\n",
       "      <td>1.9</td>\n",
       "      <td>44.0</td>\n",
       "      <td>529.0</td>\n",
       "      <td>0.158241</td>\n",
       "    </tr>\n",
       "    <tr>\n",
       "      <th>458</th>\n",
       "      <td>459.0</td>\n",
       "      <td>1043.0</td>\n",
       "      <td>1231.0</td>\n",
       "      <td>22690.0</td>\n",
       "      <td>44408.0</td>\n",
       "      <td>77900.0</td>\n",
       "      <td>91.0</td>\n",
       "      <td>1060.0</td>\n",
       "      <td>1320.0</td>\n",
       "      <td>22.0</td>\n",
       "      <td>29.0</td>\n",
       "      <td>1190.0</td>\n",
       "      <td>25.5</td>\n",
       "      <td>0</td>\n",
       "      <td>0.847279</td>\n",
       "      <td>4.9</td>\n",
       "      <td>139.0</td>\n",
       "      <td>188.0</td>\n",
       "      <td>0.152721</td>\n",
       "    </tr>\n",
       "    <tr>\n",
       "      <th>3</th>\n",
       "      <td>4.0</td>\n",
       "      <td>4680.0</td>\n",
       "      <td>11466.0</td>\n",
       "      <td>43248.0</td>\n",
       "      <td>67430.0</td>\n",
       "      <td>155200.0</td>\n",
       "      <td>7.0</td>\n",
       "      <td>1490.0</td>\n",
       "      <td>1570.0</td>\n",
       "      <td>33.0</td>\n",
       "      <td>35.0</td>\n",
       "      <td>1530.0</td>\n",
       "      <td>34.0</td>\n",
       "      <td>0</td>\n",
       "      <td>0.408163</td>\n",
       "      <td>13.4</td>\n",
       "      <td>479.0</td>\n",
       "      <td>6786.0</td>\n",
       "      <td>0.591837</td>\n",
       "    </tr>\n",
       "  </tbody>\n",
       "</table>\n",
       "</div>"
      ],
      "text/plain": [
       "      Rank  Undergraduate Population  Student Population  Average Grant Aid  \\\n",
       "601  602.0                    2814.0              3343.0             6195.0   \n",
       "458  459.0                    1043.0              1231.0            22690.0   \n",
       "3      4.0                    4680.0             11466.0            43248.0   \n",
       "\n",
       "     Total Annual Cost  Alumni Salary  Acceptance Rate  SAT Lower  SAT Upper  \\\n",
       "601            35144.0        81500.0             86.0      990.0     1200.0   \n",
       "458            44408.0        77900.0             91.0     1060.0     1320.0   \n",
       "3              67430.0       155200.0              7.0     1490.0     1570.0   \n",
       "\n",
       "     ACT Lower  ACT Upper  SAT Average  ACT Average  Public  \\\n",
       "601       20.0       25.0       1095.0         22.5       1   \n",
       "458       22.0       29.0       1190.0         25.5       0   \n",
       "3         33.0       35.0       1530.0         34.0       0   \n",
       "\n",
       "     Undergraduate Percentage  ACT Difference  SAT Difference  \\\n",
       "601                  0.841759             1.9            44.0   \n",
       "458                  0.847279             4.9           139.0   \n",
       "3                    0.408163            13.4           479.0   \n",
       "\n",
       "     Post-UG Population  Post-UG Percentage  \n",
       "601               529.0            0.158241  \n",
       "458               188.0            0.152721  \n",
       "3                6786.0            0.591837  "
      ]
     },
     "execution_count": 48,
     "metadata": {},
     "output_type": "execute_result"
    }
   ],
   "source": [
    "df3=df.dropna()\n",
    "df_goal4=df3['Net Price'].copy()\n",
    "df4=df3.drop('Net Price', axis=1)\n",
    "df_train5, df_test5, goal_train3, goal_test3 = train_test_split(df4, df_goal4, test_size=.33, random_state=42)\n",
    "df_train5.head(3)"
   ]
  },
  {
   "cell_type": "code",
   "execution_count": 49,
   "metadata": {},
   "outputs": [],
   "source": [
    "pipe2.fit(df_train5, goal_train3)\n",
    "df_train6 = pipe2.transform(df_train5)\n",
    "df_test6 = pipe2.transform(df_test5)\n",
    "\n"
   ]
  },
  {
   "cell_type": "markdown",
   "metadata": {},
   "source": [
    "### First Model: Random Forest Regressor"
   ]
  },
  {
   "cell_type": "code",
   "execution_count": 50,
   "metadata": {},
   "outputs": [
    {
     "data": {
      "text/plain": [
       "18774601.68435087"
      ]
     },
     "execution_count": 50,
     "metadata": {},
     "output_type": "execute_result"
    }
   ],
   "source": [
    "forest3=RandomForestRegressor(random_state=42)\n",
    "forest3.fit(df_train6, goal_train3)\n",
    "forest3_predict = forest3.predict(df_test6)\n",
    "forest3_mse = np.power(goal_test3 - forest3_predict, 2).mean()\n",
    "forest3_mse"
   ]
  },
  {
   "cell_type": "code",
   "execution_count": 51,
   "metadata": {},
   "outputs": [
    {
     "data": {
      "text/plain": [
       "4332.966845517153"
      ]
     },
     "execution_count": 51,
     "metadata": {},
     "output_type": "execute_result"
    }
   ],
   "source": [
    "forest3_rmse= forest3_mse ** .5\n",
    "forest3_rmse"
   ]
  },
  {
   "cell_type": "code",
   "execution_count": 52,
   "metadata": {},
   "outputs": [
    {
     "data": {
      "text/plain": [
       "array([0.6849588 , 0.49297163, 0.65751083, 0.69383073, 0.33530305,\n",
       "       0.72323763, 0.51358294, 0.73420128, 0.65510616, 0.5868688 ])"
      ]
     },
     "execution_count": 52,
     "metadata": {},
     "output_type": "execute_result"
    }
   ],
   "source": [
    "forest_scores3 = cross_val_score(forest3, df_test6, goal_test3, cv=10)\n",
    "forest_scores3"
   ]
  },
  {
   "cell_type": "code",
   "execution_count": 53,
   "metadata": {},
   "outputs": [
    {
     "data": {
      "text/plain": [
       "0.607757186336001"
      ]
     },
     "execution_count": 53,
     "metadata": {},
     "output_type": "execute_result"
    }
   ],
   "source": [
    "forest_scores3.mean()"
   ]
  },
  {
   "cell_type": "markdown",
   "metadata": {},
   "source": [
    "With an RMSE of 4332.96 and an accuracy score of 60.78%, the model's predictions could be better. The RMSE is actually very good as 4332.96 is less than half of a standard deviation for Alumni Salary. Also the range for Alumni Salary is around 80,000, which is several times larger than the RMSE. That being said, the accuracy score from cross validation is only 60.78%, not much better than a coin toss. \n",
    "\n",
    "Based on it - as well as not havin an Alumni Salary RMSE to compare it to - I believe there is a better model to use to predict alumni salary. As Random Forest Regressors generally prefer more complex data, I'll move on to simpler models. "
   ]
  },
  {
   "cell_type": "markdown",
   "metadata": {},
   "source": [
    "### Second Model: Linear Regression\n",
    "\n",
    "As before, I'll be using two different methods to build my regression model. This is due to the fact that some information is easier to acquire through the different methods. "
   ]
  },
  {
   "cell_type": "code",
   "execution_count": 54,
   "metadata": {},
   "outputs": [
    {
     "data": {
      "text/plain": [
       "16173398.50470559"
      ]
     },
     "execution_count": 54,
     "metadata": {},
     "output_type": "execute_result"
    }
   ],
   "source": [
    "reg.fit(df_train6, goal_train3)\n",
    "reg2_predict = reg.predict(df_test6)\n",
    "reg_mse2 = np.power(goal_test3 - reg2_predict, 2).mean()\n",
    "reg_mse2"
   ]
  },
  {
   "cell_type": "code",
   "execution_count": 55,
   "metadata": {},
   "outputs": [
    {
     "data": {
      "text/plain": [
       "4021.61640447042"
      ]
     },
     "execution_count": 55,
     "metadata": {},
     "output_type": "execute_result"
    }
   ],
   "source": [
    "reg_rmse2 = reg_mse2 ** .5\n",
    "reg_rmse2"
   ]
  },
  {
   "cell_type": "code",
   "execution_count": 56,
   "metadata": {},
   "outputs": [
    {
     "data": {
      "text/plain": [
       "array([0.65835473, 0.50046384, 0.73517647, 0.8845713 , 0.81058023,\n",
       "       0.72947146, 0.67998092, 0.79991371, 0.69276538, 0.5845141 ])"
      ]
     },
     "execution_count": 56,
     "metadata": {},
     "output_type": "execute_result"
    }
   ],
   "source": [
    "reg2_scores = cross_val_score(reg, df_test6, goal_test3, cv=10)\n",
    "reg2_scores"
   ]
  },
  {
   "cell_type": "code",
   "execution_count": 57,
   "metadata": {},
   "outputs": [
    {
     "data": {
      "text/plain": [
       "0.7075792138743544"
      ]
     },
     "execution_count": 57,
     "metadata": {},
     "output_type": "execute_result"
    }
   ],
   "source": [
    "reg2_scores.mean()"
   ]
  },
  {
   "cell_type": "markdown",
   "metadata": {},
   "source": [
    "As I expected, both the RMSE and the accuracy score have been improved by using a linear regression model. The RMSE have dropped by 300 points, or a 7% improvement. While the accuracy score has increased by 10% to 70%, much more respectable. "
   ]
  },
  {
   "cell_type": "code",
   "execution_count": 58,
   "metadata": {},
   "outputs": [
    {
     "data": {
      "text/html": [
       "<table class=\"simpletable\">\n",
       "<caption>OLS Regression Results</caption>\n",
       "<tr>\n",
       "  <th>Dep. Variable:</th>        <td>Net Price</td>    <th>  R-squared:         </th> <td>   0.776</td> \n",
       "</tr>\n",
       "<tr>\n",
       "  <th>Model:</th>                   <td>OLS</td>       <th>  Adj. R-squared:    </th> <td>   0.768</td> \n",
       "</tr>\n",
       "<tr>\n",
       "  <th>Method:</th>             <td>Least Squares</td>  <th>  F-statistic:       </th> <td>   90.02</td> \n",
       "</tr>\n",
       "<tr>\n",
       "  <th>Date:</th>             <td>Mon, 13 Sep 2021</td> <th>  Prob (F-statistic):</th> <td>4.10e-101</td>\n",
       "</tr>\n",
       "<tr>\n",
       "  <th>Time:</th>                 <td>20:50:11</td>     <th>  Log-Likelihood:    </th> <td> -3368.1</td> \n",
       "</tr>\n",
       "<tr>\n",
       "  <th>No. Observations:</th>      <td>   351</td>      <th>  AIC:               </th> <td>   6764.</td> \n",
       "</tr>\n",
       "<tr>\n",
       "  <th>Df Residuals:</th>          <td>   337</td>      <th>  BIC:               </th> <td>   6818.</td> \n",
       "</tr>\n",
       "<tr>\n",
       "  <th>Df Model:</th>              <td>    13</td>      <th>                     </th>     <td> </td>    \n",
       "</tr>\n",
       "<tr>\n",
       "  <th>Covariance Type:</th>      <td>nonrobust</td>    <th>                     </th>     <td> </td>    \n",
       "</tr>\n",
       "</table>\n",
       "<table class=\"simpletable\">\n",
       "<tr>\n",
       "    <td></td>       <th>coef</th>     <th>std err</th>      <th>t</th>      <th>P>|t|</th>  <th>[0.025</th>    <th>0.975]</th>  \n",
       "</tr>\n",
       "<tr>\n",
       "  <th>const</th> <td> 2.249e+04</td> <td>  193.808</td> <td>  116.040</td> <td> 0.000</td> <td> 2.21e+04</td> <td> 2.29e+04</td>\n",
       "</tr>\n",
       "<tr>\n",
       "  <th>x1</th>    <td>  402.8923</td> <td>  434.024</td> <td>    0.928</td> <td> 0.354</td> <td> -450.845</td> <td> 1256.630</td>\n",
       "</tr>\n",
       "<tr>\n",
       "  <th>x2</th>    <td> -383.5865</td> <td>  240.375</td> <td>   -1.596</td> <td> 0.111</td> <td> -856.410</td> <td>   89.237</td>\n",
       "</tr>\n",
       "<tr>\n",
       "  <th>x3</th>    <td> -330.4238</td> <td>  142.520</td> <td>   -2.318</td> <td> 0.021</td> <td> -610.765</td> <td>  -50.082</td>\n",
       "</tr>\n",
       "<tr>\n",
       "  <th>x4</th>    <td>-7876.0109</td> <td>  537.182</td> <td>  -14.662</td> <td> 0.000</td> <td>-8932.662</td> <td>-6819.360</td>\n",
       "</tr>\n",
       "<tr>\n",
       "  <th>x5</th>    <td> 7425.8739</td> <td>  477.425</td> <td>   15.554</td> <td> 0.000</td> <td> 6486.765</td> <td> 8364.983</td>\n",
       "</tr>\n",
       "<tr>\n",
       "  <th>x6</th>    <td>   98.3172</td> <td>  315.230</td> <td>    0.312</td> <td> 0.755</td> <td> -521.749</td> <td>  718.383</td>\n",
       "</tr>\n",
       "<tr>\n",
       "  <th>x7</th>    <td>  436.7279</td> <td>  328.859</td> <td>    1.328</td> <td> 0.185</td> <td> -210.147</td> <td> 1083.603</td>\n",
       "</tr>\n",
       "<tr>\n",
       "  <th>x8</th>    <td> -186.6839</td> <td>  746.319</td> <td>   -0.250</td> <td> 0.803</td> <td>-1654.714</td> <td> 1281.346</td>\n",
       "</tr>\n",
       "<tr>\n",
       "  <th>x9</th>    <td>  809.7023</td> <td>  721.777</td> <td>    1.122</td> <td> 0.263</td> <td> -610.054</td> <td> 2229.459</td>\n",
       "</tr>\n",
       "<tr>\n",
       "  <th>x10</th>   <td> 1786.3811</td> <td>  758.727</td> <td>    2.354</td> <td> 0.019</td> <td>  293.945</td> <td> 3278.818</td>\n",
       "</tr>\n",
       "<tr>\n",
       "  <th>x11</th>   <td>-1924.9865</td> <td>  762.068</td> <td>   -2.526</td> <td> 0.012</td> <td>-3423.996</td> <td> -425.977</td>\n",
       "</tr>\n",
       "<tr>\n",
       "  <th>x12</th>   <td>  286.5902</td> <td>  175.280</td> <td>    1.635</td> <td> 0.103</td> <td>  -58.190</td> <td>  631.371</td>\n",
       "</tr>\n",
       "<tr>\n",
       "  <th>x13</th>   <td>  122.8545</td> <td>  190.536</td> <td>    0.645</td> <td> 0.520</td> <td> -251.935</td> <td>  497.644</td>\n",
       "</tr>\n",
       "<tr>\n",
       "  <th>x14</th>   <td>-5897.5446</td> <td>  394.822</td> <td>  -14.937</td> <td> 0.000</td> <td>-6674.170</td> <td>-5120.919</td>\n",
       "</tr>\n",
       "<tr>\n",
       "  <th>x15</th>   <td> -258.0653</td> <td>  154.160</td> <td>   -1.674</td> <td> 0.095</td> <td> -561.302</td> <td>   45.172</td>\n",
       "</tr>\n",
       "<tr>\n",
       "  <th>x16</th>   <td>  122.8545</td> <td>  190.536</td> <td>    0.645</td> <td> 0.520</td> <td> -251.935</td> <td>  497.644</td>\n",
       "</tr>\n",
       "<tr>\n",
       "  <th>x17</th>   <td>  286.5902</td> <td>  175.280</td> <td>    1.635</td> <td> 0.103</td> <td>  -58.190</td> <td>  631.371</td>\n",
       "</tr>\n",
       "<tr>\n",
       "  <th>x18</th>   <td>  -28.2732</td> <td>  382.310</td> <td>   -0.074</td> <td> 0.941</td> <td> -780.288</td> <td>  723.741</td>\n",
       "</tr>\n",
       "<tr>\n",
       "  <th>x19</th>   <td>  258.0653</td> <td>  154.160</td> <td>    1.674</td> <td> 0.095</td> <td>  -45.172</td> <td>  561.302</td>\n",
       "</tr>\n",
       "</table>\n",
       "<table class=\"simpletable\">\n",
       "<tr>\n",
       "  <th>Omnibus:</th>       <td>32.740</td> <th>  Durbin-Watson:     </th> <td>   1.893</td>\n",
       "</tr>\n",
       "<tr>\n",
       "  <th>Prob(Omnibus):</th> <td> 0.000</td> <th>  Jarque-Bera (JB):  </th> <td>  63.552</td>\n",
       "</tr>\n",
       "<tr>\n",
       "  <th>Skew:</th>          <td> 0.531</td> <th>  Prob(JB):          </th> <td>1.58e-14</td>\n",
       "</tr>\n",
       "<tr>\n",
       "  <th>Kurtosis:</th>      <td> 4.794</td> <th>  Cond. No.          </th> <td>2.60e+16</td>\n",
       "</tr>\n",
       "</table><br/><br/>Notes:<br/>[1] Standard Errors assume that the covariance matrix of the errors is correctly specified.<br/>[2] The smallest eigenvalue is 5.74e-30. This might indicate that there are<br/>strong multicollinearity problems or that the design matrix is singular."
      ],
      "text/plain": [
       "<class 'statsmodels.iolib.summary.Summary'>\n",
       "\"\"\"\n",
       "                            OLS Regression Results                            \n",
       "==============================================================================\n",
       "Dep. Variable:              Net Price   R-squared:                       0.776\n",
       "Model:                            OLS   Adj. R-squared:                  0.768\n",
       "Method:                 Least Squares   F-statistic:                     90.02\n",
       "Date:                Mon, 13 Sep 2021   Prob (F-statistic):          4.10e-101\n",
       "Time:                        20:50:11   Log-Likelihood:                -3368.1\n",
       "No. Observations:                 351   AIC:                             6764.\n",
       "Df Residuals:                     337   BIC:                             6818.\n",
       "Df Model:                          13                                         \n",
       "Covariance Type:            nonrobust                                         \n",
       "==============================================================================\n",
       "                 coef    std err          t      P>|t|      [0.025      0.975]\n",
       "------------------------------------------------------------------------------\n",
       "const       2.249e+04    193.808    116.040      0.000    2.21e+04    2.29e+04\n",
       "x1           402.8923    434.024      0.928      0.354    -450.845    1256.630\n",
       "x2          -383.5865    240.375     -1.596      0.111    -856.410      89.237\n",
       "x3          -330.4238    142.520     -2.318      0.021    -610.765     -50.082\n",
       "x4         -7876.0109    537.182    -14.662      0.000   -8932.662   -6819.360\n",
       "x5          7425.8739    477.425     15.554      0.000    6486.765    8364.983\n",
       "x6            98.3172    315.230      0.312      0.755    -521.749     718.383\n",
       "x7           436.7279    328.859      1.328      0.185    -210.147    1083.603\n",
       "x8          -186.6839    746.319     -0.250      0.803   -1654.714    1281.346\n",
       "x9           809.7023    721.777      1.122      0.263    -610.054    2229.459\n",
       "x10         1786.3811    758.727      2.354      0.019     293.945    3278.818\n",
       "x11        -1924.9865    762.068     -2.526      0.012   -3423.996    -425.977\n",
       "x12          286.5902    175.280      1.635      0.103     -58.190     631.371\n",
       "x13          122.8545    190.536      0.645      0.520    -251.935     497.644\n",
       "x14        -5897.5446    394.822    -14.937      0.000   -6674.170   -5120.919\n",
       "x15         -258.0653    154.160     -1.674      0.095    -561.302      45.172\n",
       "x16          122.8545    190.536      0.645      0.520    -251.935     497.644\n",
       "x17          286.5902    175.280      1.635      0.103     -58.190     631.371\n",
       "x18          -28.2732    382.310     -0.074      0.941    -780.288     723.741\n",
       "x19          258.0653    154.160      1.674      0.095     -45.172     561.302\n",
       "==============================================================================\n",
       "Omnibus:                       32.740   Durbin-Watson:                   1.893\n",
       "Prob(Omnibus):                  0.000   Jarque-Bera (JB):               63.552\n",
       "Skew:                           0.531   Prob(JB):                     1.58e-14\n",
       "Kurtosis:                       4.794   Cond. No.                     2.60e+16\n",
       "==============================================================================\n",
       "\n",
       "Notes:\n",
       "[1] Standard Errors assume that the covariance matrix of the errors is correctly specified.\n",
       "[2] The smallest eigenvalue is 5.74e-30. This might indicate that there are\n",
       "strong multicollinearity problems or that the design matrix is singular.\n",
       "\"\"\""
      ]
     },
     "execution_count": 58,
     "metadata": {},
     "output_type": "execute_result"
    }
   ],
   "source": [
    "x=sm.add_constant(df_train6)\n",
    "model = sm.OLS(goal_train3, x)\n",
    "results = model.fit()\n",
    "results.summary()"
   ]
  },
  {
   "cell_type": "markdown",
   "metadata": {},
   "source": [
    "There is some more information to be gleamed. Based on an an alternative hypothesis with a 95% confidence threshold, most of the variables in this regression would be found statistically insiginficant. It also has an R-squared value of 77.6%, which is a respectable R-squared value. Based on the regression, it seems that simpler algorithms offer better predictions when determining Alumni Salary, so it's best to try an even simpler model."
   ]
  },
  {
   "cell_type": "markdown",
   "metadata": {},
   "source": [
    "### Third Model: K-Nearest Neighbors"
   ]
  },
  {
   "cell_type": "code",
   "execution_count": 59,
   "metadata": {},
   "outputs": [
    {
     "data": {
      "text/plain": [
       "[<matplotlib.lines.Line2D at 0x1f0555feee0>]"
      ]
     },
     "execution_count": 59,
     "metadata": {},
     "output_type": "execute_result"
    },
    {
     "data": {
      "image/png": "[encoded data removed]",
      "text/plain": [
       "<Figure size 432x288 with 1 Axes>"
      ]
     },
     "metadata": {
      "needs_background": "light"
     },
     "output_type": "display_data"
    }
   ],
   "source": [
    "n_neighbors =list(range(1, 10))\n",
    "accuracy = []\n",
    "for neighbor in n_neighbors:\n",
    "    clf = KNeighborsRegressor(n_neighbors = neighbor)\n",
    "    clf.fit(df_train6, goal_train3)\n",
    "    score = clf.score(df_test6, goal_test3)\n",
    "    accuracy.append(score)\n",
    "plt.grid(True)\n",
    "plt.plot(accuracy)"
   ]
  },
  {
   "cell_type": "code",
   "execution_count": 60,
   "metadata": {},
   "outputs": [],
   "source": [
    "knn2 = KNeighborsRegressor(n_neighbors = 5)\n",
    "knn2.fit(df_train6, goal_train3)\n",
    "knn2_predict = knn2.predict(df_test6)\n",
    "knn_mse2 = np.power(goal_test3 - knn2_predict, 2).mean()"
   ]
  },
  {
   "cell_type": "code",
   "execution_count": 61,
   "metadata": {},
   "outputs": [
    {
     "data": {
      "text/plain": [
       "5254.1800195136675"
      ]
     },
     "execution_count": 61,
     "metadata": {},
     "output_type": "execute_result"
    }
   ],
   "source": [
    "knn_rmse2 = knn_mse2 ** .5\n",
    "knn_rmse2"
   ]
  },
  {
   "cell_type": "code",
   "execution_count": 62,
   "metadata": {},
   "outputs": [
    {
     "data": {
      "text/plain": [
       "array([0.46883649, 0.46369285, 0.59270023, 0.56427594, 0.33024053,\n",
       "       0.53479367, 0.55311628, 0.36523227, 0.56416681, 0.49563041])"
      ]
     },
     "execution_count": 62,
     "metadata": {},
     "output_type": "execute_result"
    }
   ],
   "source": [
    "knn2_scores = cross_val_score(knn2, df_test6, goal_test3, cv=10)\n",
    "knn2_scores\n"
   ]
  },
  {
   "cell_type": "code",
   "execution_count": 63,
   "metadata": {},
   "outputs": [
    {
     "data": {
      "text/plain": [
       "0.4932685475870634"
      ]
     },
     "execution_count": 63,
     "metadata": {},
     "output_type": "execute_result"
    }
   ],
   "source": [
    "knn2_scores.mean()"
   ]
  },
  {
   "cell_type": "markdown",
   "metadata": {},
   "source": [
    "Interestingly this model performed the worst out of all the models. It had the worst RMSE and its accurac score is around 20% lower than the regression. Therefore the regression model is the model to use when predicting Alumni Salary. "
   ]
  },
  {
   "cell_type": "code",
   "execution_count": 64,
   "metadata": {},
   "outputs": [
    {
     "data": {
      "text/plain": [
       "[<matplotlib.lines.Line2D at 0x1f055661ee0>]"
      ]
     },
     "execution_count": 64,
     "metadata": {},
     "output_type": "execute_result"
    },
    {
     "data": {
      "image/png": "[encoded data removed]",
      "text/plain": [
       "<Figure size 432x288 with 1 Axes>"
      ]
     },
     "metadata": {
      "needs_background": "light"
     },
     "output_type": "display_data"
    }
   ],
   "source": [
    "n_neighbors =list(range(1, 10))\n",
    "accuracy = []\n",
    "for neighbor in n_neighbors:\n",
    "    clf = KNeighborsRegressor(n_neighbors = neighbor)\n",
    "    clf.fit(df_train6, goal_train3)\n",
    "    score = clf.score(df_test6, goal_test3)\n",
    "    accuracy.append(score)\n",
    "plt.grid(True)\n",
    "plt.plot(accuracy)"
   ]
  },
  {
   "cell_type": "markdown",
   "metadata": {},
   "source": [
    "As the model is already at its more effective number of neighbors, there is little that can be done to improve on the model. Therefore, the linear regression model is the best predictor of alumni salary."
   ]
  },
  {
   "cell_type": "code",
   "execution_count": 65,
   "metadata": {},
   "outputs": [],
   "source": [
    "df.to_excel(r'C:\\Users\\Woyte\\OneDrive\\Colleges.xlsx', index = False)\n"
   ]
  }
 ],
 "metadata": {
  "kernelspec": {
   "display_name": "Python 3",
   "language": "python",
   "name": "python3"
  },
  "language_info": {
   "codemirror_mode": {
    "name": "ipython",
    "version": 3
   },
   "file_extension": ".py",
   "mimetype": "text/x-python",
   "name": "python",
   "nbconvert_exporter": "python",
   "pygments_lexer": "ipython3",
   "version": "3.8.8"
  }
 },
 "nbformat": 4,
 "nbformat_minor": 2
}
